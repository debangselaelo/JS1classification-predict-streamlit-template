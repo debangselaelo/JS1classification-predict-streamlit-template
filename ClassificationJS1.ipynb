{
 "cells": [
  {
   "cell_type": "markdown",
   "id": "3fd6d90d",
   "metadata": {},
   "source": [
    "# Classification Predict TeamJS1 Solutions\n",
    "\n",
    "© Explore Data Science Academy\n",
    "\n",
    "#**<font color='blue'>Climate Change Belief Analysis</font>**\n",
    "---\n",
    "### Honour Code\n",
    "\n",
    "We {**TeamJS1**}, confirm - by submitting this document - that the solutions in this notebook are a result of our work and that we abide by the [EDSA honour code](https://drive.google.com/file/d/1QDCjGZJ8-FmJE3bZdIQNwnJyQKPhHZBn/view?usp=sharing).\n",
    "\n",
    "Non-compliance with the honour code constitutes a material breach of contract.\n",
    "\n",
    "## Introduction: Climate Change Belief\n",
    "\n",
    "<p align=\"justify\" > Earth’s climate is undergoing changes never seen before by humans. Studying climate change will help us understand why global temperatures continue to rise, how the climate affects us, and how we can tackle this challenge before things get much worse. It is imperative to understand climate change for us to plan accordinlgy. Our understanding of the climate can help us predict how much rain will fall next winter as well as how much sea levels will rise as temperatures rise. Finding out what people think about climate change and whether they consider it to be a real threat is important.\n",
    "\n",
    "\n",
    "### Predict Overview:Climate change\n",
    "\n",
    "Many companies are built around lessening one’s environmental impact or carbon footprint and they would like to determine how people perceive climate change and whether or not they believe it is a real threat. Our company has been awarded a contract to:\n",
    "\n",
    "- 1. analyse the supplied data;\n",
    "- 2. identify potential errors in the data and clean the existing data set;\n",
    "- 3. determine if additional features can be added to enrich the data set;\n",
    "- 4. build a model that is capable of forecasting the three hourly demand shortfalls;\n",
    "- 5. evaluate the accuracy of the best machine learning model;\n",
    "- 6. determine what features were most important in the model’s prediction decision, and\n",
    "- 7. explain the inner working of the model to a non-technical audience.\n",
    "\n",
    "### Problem statement: \n",
    "Our tweeter data allows us to determine whether people in the tweeter data believe climate change is a threat given the ever-changing climate and global changes.\n",
    "\n",
    "### Our Task: The classification of tweets\n",
    "To create a Machine Learning model that is able to classify whether or not a person believes in climate change, based on their novel tweet data. Therefore, a robust solution for this task will allow companies to access a wealth of consumer sentiment that spans several demographic and geographical categories - so that their marketing strategies can be better informed. \n",
    "\n",
    "<div align=\"center\" style=\"width: 800px; font-size: 100%; text-align: center; margin: 0 auto\">\n",
    "<img src=\"https://dnrec.alpha.delaware.gov/wp-content/uploads/sites/2/2020/02/climate-word-map.jpg\"\n",
    "     \n",
    "Climate Change  Photo by <a href=\"https://dnrec.alpha.delaware.gov/coastal-programs/planning-training/adapting-to-sea-level-rise/climate-change-perceptions/\"> Delaware </a> \n",
    "</div>\n",
    "\n",
    " ### Key Objectives:\n",
    "    \n",
    "1.   To analyse the tweets of Individual Twitter account in term of Sentiments;\n",
    "2.   Identify individual tweets as news, pro, neutral and anti-climate change; & \n",
    "3.   Calculate the f1 score of the sentiments.\n"
   ]
  },
  {
   "cell_type": "markdown",
   "id": "42c2c77a",
   "metadata": {},
   "source": [
    "<a id=\"cont\"></a>\n",
    "\n",
    "## Table of Contents\n",
    "\n",
    "<a href=#one>1. Importing Packages</a>\n",
    "\n",
    "<a href=#two>2. Loading Data</a>\n",
    "\n",
    "<a href=#three>3. Exploratory Data Analysis (EDA)</a>\n",
    "\n",
    "<a href=#four>4. Data Engineering</a>\n",
    "\n",
    "<a href=#five>5. Modeling</a>\n",
    "\n",
    "<a href=#six>6. Model Performance</a>\n",
    "\n",
    "<a href=#seven>7. Model Explanations</a>"
   ]
  },
  {
   "cell_type": "markdown",
   "id": "5a5bf4b7",
   "metadata": {},
   "source": [
    "In this section we are importing all the relavant packages which will be used for analysis, data cleaning and modeling."
   ]
  },
  {
   "cell_type": "markdown",
   "id": "bcf137b4",
   "metadata": {},
   "source": [
    "<a id=\"one\"></a>\n",
    "## 1. Importing Packages\n",
    "<a href=#cont>Back to Table of Contents</a>\n"
   ]
  },
  {
   "cell_type": "code",
   "execution_count": 106,
   "id": "abeaefe7",
   "metadata": {},
   "outputs": [
    {
     "data": {
      "text/plain": [
       "['Defaulting to user installation because normal site-packages is not writeable',\n",
       " 'Requirement already satisfied: nlppreprocess in c:\\\\users\\\\selaelo debang\\\\appdata\\\\roaming\\\\python\\\\python39\\\\site-packages (1.0.2)']"
      ]
     },
     "execution_count": 106,
     "metadata": {},
     "output_type": "execute_result"
    }
   ],
   "source": [
    "!!pip install nlppreprocess"
   ]
  },
  {
   "cell_type": "code",
   "execution_count": 147,
   "id": "9a2a03fb",
   "metadata": {},
   "outputs": [
    {
     "name": "stdout",
     "output_type": "stream",
     "text": [
      "✔ Download and installation successful\n",
      "You can now load the package via spacy.load('en_core_web_sm')\n"
     ]
    }
   ],
   "source": [
    "# Libraries for data loading, data manipulation and data visulisation\n",
    "import pandas as pd\n",
    "import numpy as np\n",
    "import seaborn as sns\n",
    "import matplotlib.pyplot as plt\n",
    "import plotly.express as px\n",
    "%matplotlib inline\n",
    "\n",
    "# Libraries for data preparation and model building\n",
    "# Import the scaling module\n",
    "from sklearn.preprocessing import StandardScaler\n",
    "from sklearn.utils import resample\n",
    "from PIL import Image\n",
    "\n",
    "# Import train/test split module\n",
    "\n",
    "#Modelling Libraries\n",
    "from sklearn import metrics\n",
    "\n",
    "#NLP Libraries\n",
    "import nltk\n",
    "import string\n",
    "import re\n",
    "from nltk.corpus import stopwords\n",
    "from nltk.tokenize import word_tokenize, TreebankWordTokenizer\n",
    "from nltk import SnowballStemmer, PorterStemmer, LancasterStemmer\n",
    "from nltk.stem import WordNetLemmatizer\n",
    "import spacy\n",
    "spacy.cli.download(\"en_core_web_sm\")\n",
    "from spacy.util import compounding\n",
    "from spacy.util import minibatch\n",
    "from nltk.tokenize.treebank import TreebankWordDetokenizer as Detok\n",
    "\n",
    "# set plot style\n",
    "sns.set()"
   ]
  },
  {
   "cell_type": "markdown",
   "id": "c33af0b6",
   "metadata": {},
   "source": [
    "<a id=\"two\"></a>\n",
    "## 2. Loading the Data\n",
    "<a class=\"anchor\" id=\"1.1\"></a>\n",
    "<a href=#cont>Back to Table of Contents</a>\n"
   ]
  },
  {
   "cell_type": "code",
   "execution_count": 76,
   "id": "d6624d5d",
   "metadata": {},
   "outputs": [],
   "source": [
    "train_df = pd.read_csv('train.csv')\n",
    "test_df = pd.read_csv('test_with_no_labels.csv')"
   ]
  },
  {
   "cell_type": "code",
   "execution_count": 10,
   "id": "e12cfb4c",
   "metadata": {},
   "outputs": [
    {
     "data": {
      "text/html": [
       "<div>\n",
       "<style scoped>\n",
       "    .dataframe tbody tr th:only-of-type {\n",
       "        vertical-align: middle;\n",
       "    }\n",
       "\n",
       "    .dataframe tbody tr th {\n",
       "        vertical-align: top;\n",
       "    }\n",
       "\n",
       "    .dataframe thead th {\n",
       "        text-align: right;\n",
       "    }\n",
       "</style>\n",
       "<table border=\"1\" class=\"dataframe\">\n",
       "  <thead>\n",
       "    <tr style=\"text-align: right;\">\n",
       "      <th></th>\n",
       "      <th>message</th>\n",
       "      <th>tweetid</th>\n",
       "    </tr>\n",
       "  </thead>\n",
       "  <tbody>\n",
       "    <tr>\n",
       "      <th>0</th>\n",
       "      <td>Europe will now be looking to China to make su...</td>\n",
       "      <td>169760</td>\n",
       "    </tr>\n",
       "    <tr>\n",
       "      <th>1</th>\n",
       "      <td>Combine this with the polling of staffers re c...</td>\n",
       "      <td>35326</td>\n",
       "    </tr>\n",
       "    <tr>\n",
       "      <th>2</th>\n",
       "      <td>The scary, unimpeachable evidence that climate...</td>\n",
       "      <td>224985</td>\n",
       "    </tr>\n",
       "    <tr>\n",
       "      <th>3</th>\n",
       "      <td>@Karoli @morgfair @OsborneInk @dailykos \\nPuti...</td>\n",
       "      <td>476263</td>\n",
       "    </tr>\n",
       "    <tr>\n",
       "      <th>4</th>\n",
       "      <td>RT @FakeWillMoore: 'Female orgasms cause globa...</td>\n",
       "      <td>872928</td>\n",
       "    </tr>\n",
       "  </tbody>\n",
       "</table>\n",
       "</div>"
      ],
      "text/plain": [
       "                                             message  tweetid\n",
       "0  Europe will now be looking to China to make su...   169760\n",
       "1  Combine this with the polling of staffers re c...    35326\n",
       "2  The scary, unimpeachable evidence that climate...   224985\n",
       "3  @Karoli @morgfair @OsborneInk @dailykos \\nPuti...   476263\n",
       "4  RT @FakeWillMoore: 'Female orgasms cause globa...   872928"
      ]
     },
     "execution_count": 10,
     "metadata": {},
     "output_type": "execute_result"
    }
   ],
   "source": [
    "test_df.head()"
   ]
  },
  {
   "cell_type": "markdown",
   "id": "6aa79898",
   "metadata": {},
   "source": [
    "<a id=\"three\"></a>\n",
    "## 3. Exploratory Data Analysis (EDA)\n",
    "<a class=\"anchor\" id=\"1.1\"></a>\n",
    "<a href=#cont>Back to Table of Contents</a>\n"
   ]
  },
  {
   "cell_type": "code",
   "execution_count": null,
   "id": "aa1ccc20",
   "metadata": {},
   "outputs": [],
   "source": []
  },
  {
   "cell_type": "code",
   "execution_count": 16,
   "id": "39c003b4",
   "metadata": {
    "scrolled": true
   },
   "outputs": [
    {
     "data": {
      "text/plain": [
       "(15819, 3)"
      ]
     },
     "execution_count": 16,
     "metadata": {},
     "output_type": "execute_result"
    }
   ],
   "source": [
    "#Checking the shape of the train and test set\n",
    "train_df.shape"
   ]
  },
  {
   "cell_type": "code",
   "execution_count": 15,
   "id": "50050f11",
   "metadata": {
    "collapsed": true
   },
   "outputs": [
    {
     "name": "stdout",
     "output_type": "stream",
     "text": [
      "<class 'pandas.core.frame.DataFrame'>\n",
      "RangeIndex: 15819 entries, 0 to 15818\n",
      "Data columns (total 3 columns):\n",
      " #   Column     Non-Null Count  Dtype \n",
      "---  ------     --------------  ----- \n",
      " 0   sentiment  15819 non-null  int64 \n",
      " 1   message    15819 non-null  object\n",
      " 2   tweetid    15819 non-null  int64 \n",
      "dtypes: int64(2), object(1)\n",
      "memory usage: 370.9+ KB\n"
     ]
    }
   ],
   "source": [
    "train_df.info()"
   ]
  },
  {
   "cell_type": "code",
   "execution_count": 17,
   "id": "dafca171",
   "metadata": {},
   "outputs": [
    {
     "data": {
      "text/plain": [
       "sentiment    0\n",
       "message      0\n",
       "tweetid      0\n",
       "dtype: int64"
      ]
     },
     "execution_count": 17,
     "metadata": {},
     "output_type": "execute_result"
    }
   ],
   "source": [
    "train_df.isnull().sum()"
   ]
  },
  {
   "cell_type": "code",
   "execution_count": 18,
   "id": "8afe4da1",
   "metadata": {
    "collapsed": true
   },
   "outputs": [
    {
     "data": {
      "text/html": [
       "<div>\n",
       "<style scoped>\n",
       "    .dataframe tbody tr th:only-of-type {\n",
       "        vertical-align: middle;\n",
       "    }\n",
       "\n",
       "    .dataframe tbody tr th {\n",
       "        vertical-align: top;\n",
       "    }\n",
       "\n",
       "    .dataframe thead th {\n",
       "        text-align: right;\n",
       "    }\n",
       "</style>\n",
       "<table border=\"1\" class=\"dataframe\">\n",
       "  <thead>\n",
       "    <tr style=\"text-align: right;\">\n",
       "      <th></th>\n",
       "      <th>sentiment</th>\n",
       "      <th>tweetid</th>\n",
       "    </tr>\n",
       "  </thead>\n",
       "  <tbody>\n",
       "    <tr>\n",
       "      <th>count</th>\n",
       "      <td>15819.000000</td>\n",
       "      <td>15819.000000</td>\n",
       "    </tr>\n",
       "    <tr>\n",
       "      <th>mean</th>\n",
       "      <td>0.917504</td>\n",
       "      <td>501719.433656</td>\n",
       "    </tr>\n",
       "    <tr>\n",
       "      <th>std</th>\n",
       "      <td>0.836537</td>\n",
       "      <td>289045.983132</td>\n",
       "    </tr>\n",
       "    <tr>\n",
       "      <th>min</th>\n",
       "      <td>-1.000000</td>\n",
       "      <td>6.000000</td>\n",
       "    </tr>\n",
       "    <tr>\n",
       "      <th>25%</th>\n",
       "      <td>1.000000</td>\n",
       "      <td>253207.500000</td>\n",
       "    </tr>\n",
       "    <tr>\n",
       "      <th>50%</th>\n",
       "      <td>1.000000</td>\n",
       "      <td>502291.000000</td>\n",
       "    </tr>\n",
       "    <tr>\n",
       "      <th>75%</th>\n",
       "      <td>1.000000</td>\n",
       "      <td>753769.000000</td>\n",
       "    </tr>\n",
       "    <tr>\n",
       "      <th>max</th>\n",
       "      <td>2.000000</td>\n",
       "      <td>999888.000000</td>\n",
       "    </tr>\n",
       "  </tbody>\n",
       "</table>\n",
       "</div>"
      ],
      "text/plain": [
       "          sentiment        tweetid\n",
       "count  15819.000000   15819.000000\n",
       "mean       0.917504  501719.433656\n",
       "std        0.836537  289045.983132\n",
       "min       -1.000000       6.000000\n",
       "25%        1.000000  253207.500000\n",
       "50%        1.000000  502291.000000\n",
       "75%        1.000000  753769.000000\n",
       "max        2.000000  999888.000000"
      ]
     },
     "execution_count": 18,
     "metadata": {},
     "output_type": "execute_result"
    }
   ],
   "source": [
    "train_df.describe()"
   ]
  },
  {
   "cell_type": "code",
   "execution_count": 19,
   "id": "510c5443",
   "metadata": {
    "scrolled": true
   },
   "outputs": [
    {
     "name": "stderr",
     "output_type": "stream",
     "text": [
      "C:\\Users\\Selaelo Debang\\AppData\\Local\\Temp\\ipykernel_14772\\2566899487.py:1: FutureWarning: Dropping of nuisance columns in DataFrame reductions (with 'numeric_only=None') is deprecated; in a future version this will raise TypeError.  Select only valid columns before calling the reduction.\n",
      "  train_df.skew()\n"
     ]
    },
    {
     "data": {
      "text/plain": [
       "sentiment   -0.683959\n",
       "tweetid     -0.008471\n",
       "dtype: float64"
      ]
     },
     "execution_count": 19,
     "metadata": {},
     "output_type": "execute_result"
    }
   ],
   "source": [
    "train_df.skew()"
   ]
  },
  {
   "cell_type": "markdown",
   "id": "86269b62",
   "metadata": {},
   "source": [
    "The column sentiment is moderately skewed to the negative direction while the column tweetid is fairly symmetrical"
   ]
  },
  {
   "cell_type": "code",
   "execution_count": 20,
   "id": "33fcad2e",
   "metadata": {
    "scrolled": true
   },
   "outputs": [
    {
     "name": "stderr",
     "output_type": "stream",
     "text": [
      "C:\\Users\\Selaelo Debang\\AppData\\Local\\Temp\\ipykernel_14772\\861045134.py:1: FutureWarning: Dropping of nuisance columns in DataFrame reductions (with 'numeric_only=None') is deprecated; in a future version this will raise TypeError.  Select only valid columns before calling the reduction.\n",
      "  train_df.kurtosis()\n"
     ]
    },
    {
     "data": {
      "text/plain": [
       "sentiment    0.122976\n",
       "tweetid     -1.193356\n",
       "dtype: float64"
      ]
     },
     "execution_count": 20,
     "metadata": {},
     "output_type": "execute_result"
    }
   ],
   "source": [
    "train_df.kurtosis()"
   ]
  },
  {
   "cell_type": "markdown",
   "id": "27a24b92",
   "metadata": {},
   "source": [
    "From the above figures we can infer there are no outliers in our dataset"
   ]
  },
  {
   "cell_type": "code",
   "execution_count": 5,
   "id": "f20ef7c2",
   "metadata": {},
   "outputs": [],
   "source": [
    "X = train_df['message']\n",
    "y = train_df['sentiment']"
   ]
  },
  {
   "cell_type": "markdown",
   "id": "8857dc95",
   "metadata": {},
   "source": [
    "Let's do a quick analysis of the distribution of observations across our labels"
   ]
  },
  {
   "cell_type": "code",
   "execution_count": 45,
   "id": "a3694f69",
   "metadata": {
    "scrolled": true
   },
   "outputs": [
    {
     "data": {
      "text/plain": [
       " 1    8530\n",
       " 2    3640\n",
       " 0    2353\n",
       "-1    1296\n",
       "Name: sentiment, dtype: int64"
      ]
     },
     "execution_count": 45,
     "metadata": {},
     "output_type": "execute_result"
    }
   ],
   "source": [
    "# Separate minority and majority classes\n",
    "anti = train_df[y==-1]\n",
    "neutral = train_df[y==0]\n",
    "pro = train_df[y==1]\n",
    "news = train_df[y==2]\n",
    "y.value_counts()"
   ]
  },
  {
   "cell_type": "markdown",
   "id": "cbebab9a",
   "metadata": {},
   "source": [
    "8530 tweets are believe, 3640 tweets are factual news about climate change, 2353 neither support nor refutes, and 1296 tweets do not believe in climate change"
   ]
  },
  {
   "cell_type": "code",
   "execution_count": 61,
   "id": "cef53367",
   "metadata": {
    "collapsed": true
   },
   "outputs": [
    {
     "data": {
      "text/html": [
       "<style type=\"text/css\">\n",
       "#T_9d201_row0_col0 {\n",
       "  background-color: #796eb2;\n",
       "  color: #f1f1f1;\n",
       "}\n",
       "#T_9d201_row0_col1, #T_9d201_row0_col2, #T_9d201_row1_col0 {\n",
       "  background-color: #3f007d;\n",
       "  color: #f1f1f1;\n",
       "}\n",
       "#T_9d201_row1_col1 {\n",
       "  background-color: #c9c9e2;\n",
       "  color: #000000;\n",
       "}\n",
       "#T_9d201_row1_col2 {\n",
       "  background-color: #c8c8e2;\n",
       "  color: #000000;\n",
       "}\n",
       "#T_9d201_row2_col0 {\n",
       "  background-color: #c6c7e1;\n",
       "  color: #000000;\n",
       "}\n",
       "#T_9d201_row2_col1 {\n",
       "  background-color: #eceaf3;\n",
       "  color: #000000;\n",
       "}\n",
       "#T_9d201_row2_col2 {\n",
       "  background-color: #ebe9f3;\n",
       "  color: #000000;\n",
       "}\n",
       "#T_9d201_row3_col0, #T_9d201_row3_col1, #T_9d201_row3_col2 {\n",
       "  background-color: #fcfbfd;\n",
       "  color: #000000;\n",
       "}\n",
       "</style>\n",
       "<table id=\"T_9d201\">\n",
       "  <thead>\n",
       "    <tr>\n",
       "      <th class=\"blank level0\" >&nbsp;</th>\n",
       "      <th id=\"T_9d201_level0_col0\" class=\"col_heading level0 col0\" >sentiment</th>\n",
       "      <th id=\"T_9d201_level0_col1\" class=\"col_heading level0 col1\" >message</th>\n",
       "      <th id=\"T_9d201_level0_col2\" class=\"col_heading level0 col2\" >percentage</th>\n",
       "    </tr>\n",
       "  </thead>\n",
       "  <tbody>\n",
       "    <tr>\n",
       "      <th id=\"T_9d201_level0_row0\" class=\"row_heading level0 row0\" >2</th>\n",
       "      <td id=\"T_9d201_row0_col0\" class=\"data row0 col0\" >1</td>\n",
       "      <td id=\"T_9d201_row0_col1\" class=\"data row0 col1\" >8530</td>\n",
       "      <td id=\"T_9d201_row0_col2\" class=\"data row0 col2\" >54.000000</td>\n",
       "    </tr>\n",
       "    <tr>\n",
       "      <th id=\"T_9d201_level0_row1\" class=\"row_heading level0 row1\" >3</th>\n",
       "      <td id=\"T_9d201_row1_col0\" class=\"data row1 col0\" >2</td>\n",
       "      <td id=\"T_9d201_row1_col1\" class=\"data row1 col1\" >3640</td>\n",
       "      <td id=\"T_9d201_row1_col2\" class=\"data row1 col2\" >23.000000</td>\n",
       "    </tr>\n",
       "    <tr>\n",
       "      <th id=\"T_9d201_level0_row2\" class=\"row_heading level0 row2\" >1</th>\n",
       "      <td id=\"T_9d201_row2_col0\" class=\"data row2 col0\" >0</td>\n",
       "      <td id=\"T_9d201_row2_col1\" class=\"data row2 col1\" >2353</td>\n",
       "      <td id=\"T_9d201_row2_col2\" class=\"data row2 col2\" >15.000000</td>\n",
       "    </tr>\n",
       "    <tr>\n",
       "      <th id=\"T_9d201_level0_row3\" class=\"row_heading level0 row3\" >0</th>\n",
       "      <td id=\"T_9d201_row3_col0\" class=\"data row3 col0\" >-1</td>\n",
       "      <td id=\"T_9d201_row3_col1\" class=\"data row3 col1\" >1296</td>\n",
       "      <td id=\"T_9d201_row3_col2\" class=\"data row3 col2\" >8.000000</td>\n",
       "    </tr>\n",
       "  </tbody>\n",
       "</table>\n"
      ],
      "text/plain": [
       "<pandas.io.formats.style.Styler at 0x1f18947d490>"
      ]
     },
     "execution_count": 61,
     "metadata": {},
     "output_type": "execute_result"
    }
   ],
   "source": [
    "#checking for tweet sentiment percetage\n",
    "temp = train_df.groupby('sentiment').count()['message'].reset_index().sort_values(by='message',ascending=False)\n",
    "temp['percentage'] = round((temp['message']/temp['message'].sum())*100,0) \n",
    "temp.style.background_gradient(cmap='Purples')"
   ]
  },
  {
   "cell_type": "code",
   "execution_count": 55,
   "id": "15dcfea7",
   "metadata": {
    "collapsed": true
   },
   "outputs": [
    {
     "data": {
      "image/png": "[encoded data removed]",
      "text/plain": [
       "<Figure size 936x648 with 1 Axes>"
      ]
     },
     "metadata": {},
     "output_type": "display_data"
    }
   ],
   "source": [
    "# Get all possible labels\n",
    "plt.figure(figsize=(13,9))\n",
    "labels = y.unique()\n",
    "heights = [len(anti),len(neutral),len(pro),len(news)]\n",
    "plt.bar(labels,heights,color= [\"red\", \"blue\", \"orange\", \"green\"])\n",
    "plt.xticks(labels,['anti','neutral','pro','new'])\n",
    "plt.ylabel(\"No of Observations\")\n",
    "plt.title(\"Distribution of tweets\", fontsize = 24)\n",
    "plt.ylabel(\"No of observations\", fontsize = 24)\n",
    "plt.xticks(labels,['anti', 'neutral', 'pro', 'new'], fontsize = 24)\n",
    "plt.show()\n"
   ]
  },
  {
   "cell_type": "markdown",
   "id": "5d6a7b6f",
   "metadata": {},
   "source": [
    "The bar graph paints a clearer picture of the distribution of tweets and reveals that the train dataset is imbalanced. This imbalance will be dealt with at the later stage of modeling"
   ]
  },
  {
   "cell_type": "code",
   "execution_count": 21,
   "id": "5d3c9833",
   "metadata": {
    "collapsed": true
   },
   "outputs": [
    {
     "data": {
      "image/png": "[encoded data removed]",
      "text/plain": [
       "<Figure size 432x288 with 2 Axes>"
      ]
     },
     "metadata": {},
     "output_type": "display_data"
    }
   ],
   "source": [
    "heatmap = sns.heatmap(train_df.corr(), vmin=-1, vmax=1, annot=True)\n",
    "heatmap.set_title('Correlation Heatmap', fontdict={'fontsize':12}, pad=12);"
   ]
  },
  {
   "cell_type": "markdown",
   "id": "da730856",
   "metadata": {},
   "source": [
    "From our heatmap above there is no indication of high correlation amongst our variables"
   ]
  },
  {
   "cell_type": "code",
   "execution_count": 93,
   "id": "031c1b48",
   "metadata": {},
   "outputs": [
    {
     "data": {
      "text/plain": [
       "<AxesSubplot:title={'center':'Density curve'}, xlabel='message', ylabel='Density'>"
      ]
     },
     "execution_count": 93,
     "metadata": {},
     "output_type": "execute_result"
    },
    {
     "data": {
      "image/png": "[encoded data removed]",
      "text/plain": [
       "<Figure size 432x288 with 1 Axes>"
      ]
     },
     "metadata": {},
     "output_type": "display_data"
    }
   ],
   "source": [
    "## Lenght of the Text using KDEplot\n",
    "lenghth = train_df[\"message\"].str.len()\n",
    "plt.title(\"Density curve\", fontsize = 24)\n",
    "sns.kdeplot(lenght)"
   ]
  },
  {
   "cell_type": "markdown",
   "id": "e5a5d730",
   "metadata": {},
   "source": [
    "The curve is skewed to the left side of the distribution because that’s where the most values are located. It’s also lowest near the ends of the distribution because fewer message take on those values"
   ]
  },
  {
   "cell_type": "markdown",
   "id": "93753f37",
   "metadata": {},
   "source": [
    "### Word Cloud Visualization"
   ]
  },
  {
   "cell_type": "code",
   "execution_count": null,
   "id": "85441686",
   "metadata": {},
   "outputs": [],
   "source": []
  },
  {
   "cell_type": "markdown",
   "id": "81f5810a",
   "metadata": {},
   "source": [
    "Hashtags"
   ]
  },
  {
   "cell_type": "code",
   "execution_count": 155,
   "id": "94f1ed0d",
   "metadata": {},
   "outputs": [],
   "source": [
    "#How many hashtags are there in a tweet?\n",
    "\n",
    "'''\n",
    "this function extract hashtags in tweet message\n",
    "and returns the hashtags\n",
    "''' \n",
    "def hashtag_extract(x):\n",
    "    hashtags = []\n",
    "    # Loop over the words in the tweet\n",
    "    for i in x:\n",
    "        ht = re.findall(r\"#(\\w+)\", i)\n",
    "        hashtags.append(ht)\n",
    "\n",
    "    return hashtags\n",
    "# extracting hashtags from positive/negative tweets\n",
    "\n",
    "HT_positive = hashtag_extract(train_df['message'][train_df['sentiment'] == 1])\n",
    "\n",
    "# extracting hashtags from racist/sexist tweets\n",
    "HT_negative = hashtag_extract(train_df['message'][train_df['sentiment'] == -1])\n",
    "\n",
    "# unnesting list\n",
    "HT_positive = sum(HT_positive,[])\n",
    "HT_negative = sum(HT_negative,[])\n"
   ]
  },
  {
   "cell_type": "code",
   "execution_count": null,
   "id": "9fe5891c",
   "metadata": {},
   "outputs": [],
   "source": []
  },
  {
   "cell_type": "code",
   "execution_count": 158,
   "id": "a598aa6a",
   "metadata": {
    "scrolled": true
   },
   "outputs": [
    {
     "data": {
      "image/png": "[encoded data removed]",
      "text/plain": [
       "<Figure size 1152x360 with 1 Axes>"
      ]
     },
     "metadata": {},
     "output_type": "display_data"
    },
    {
     "data": {
      "image/png": "[encoded data removed]",
      "text/plain": [
       "<Figure size 1152x360 with 1 Axes>"
      ]
     },
     "metadata": {},
     "output_type": "display_data"
    }
   ],
   "source": [
    "#Positive hastags\n",
    "a = nltk.FreqDist(HT_positive)\n",
    "d = pd.DataFrame({'Hashtag': list(a.keys()),\n",
    "                  'Count': list(a.values())})\n",
    "\n",
    "# selecting top 10 most frequent hashtags     \n",
    "d = d.nlargest(columns=\"Count\", n = 10) \n",
    "plt.figure(figsize=(16,5))\n",
    "ax = sns.barplot(data=d, x= \"Hashtag\", y = \"Count\")\n",
    "ax.set(ylabel = 'Count')\n",
    "plt.show()\n",
    "\n",
    "\n",
    "#Negative hashtags\n",
    "b = nltk.FreqDist(HT_negative)\n",
    "e = pd.DataFrame({'Hashtag': list(b.keys()), 'Count': list(b.values())})\n",
    "\n",
    "# selecting top 10 most frequent hashtags\n",
    "e = e.nlargest(columns=\"Count\", n = 10)   \n",
    "plt.figure(figsize=(16,5))\n",
    "ax = sns.barplot(data=e, x= \"Hashtag\", y = \"Count\")\n",
    "ax.set(ylabel = 'Count')\n",
    "plt.show()"
   ]
  },
  {
   "cell_type": "markdown",
   "id": "a6e8710f",
   "metadata": {},
   "source": [
    "<a id=\"four\"></a>\n",
    "## 4. Data Engineering\n",
    "<a class=\"anchor\" id=\"1.1\"></a>\n",
    "<a href=#cont>Back to Table of Contents</a>\n"
   ]
  },
  {
   "cell_type": "markdown",
   "id": "943b0920",
   "metadata": {},
   "source": [
    "Perfomaing NLP on the message column"
   ]
  },
  {
   "cell_type": "markdown",
   "id": "31bc71e8",
   "metadata": {},
   "source": [
    "removing the web-urls, making everything lower case, removing punctuation"
   ]
  },
  {
   "cell_type": "code",
   "execution_count": 120,
   "id": "131b9a93",
   "metadata": {},
   "outputs": [
    {
     "data": {
      "text/plain": [
       "'!\"#$%&\\'()*+,-./:;<=>?@[\\\\]^_`{|}~'"
      ]
     },
     "execution_count": 120,
     "metadata": {},
     "output_type": "execute_result"
    }
   ],
   "source": [
    "string.punctuation"
   ]
  },
  {
   "cell_type": "code",
   "execution_count": 121,
   "id": "ecc874d9",
   "metadata": {},
   "outputs": [],
   "source": [
    "# Removing punctuations and unwanted characters present in the messages\n",
    "\n",
    "def cleaning(text):\n",
    "    \"\"\"\n",
    "    The Function makes text lowercase,removes links,\n",
    "    punctuation(!\"#$%&\\'()*+,-./:;<=>?@[\\\\]^_`{|}~)\n",
    "    and words containing numbers.\n",
    "\n",
    "    Parameters:\n",
    "    argument1(object):It takes the text and converts all it to lowercases\n",
    "    argument2(object):It takes all the special characters and removes them\n",
    "    argument3(object):It takes the text and removes all numeric values\n",
    "    argument4(object):It takes text and expand shortened words\n",
    "\n",
    "    Returns:\n",
    "    Object full word without the special characters and numeric values,\n",
    "    all in lower case\n",
    "\n",
    "    \"\"\"\n",
    "    contractions_dict = {\"ain't\": \"am not / are not / is not / has not /have not\",\n",
    "                         \"aren't\": \"are not / am not\", \"can't\": \"cannot\",\n",
    "                         \"can't've\": \"cannot have\",\n",
    "                         \"'cause\": \"because\", \"could've\": \"could have\",\n",
    "                         \"couldn't\": \"could not\",\n",
    "                         \"couldn't've\": \"could not have\", \"didn't\": \"did not\",\n",
    "                         \"doesn't\": \"does not\",\n",
    "                         \"don't\": \"do not\", \"hadn't\": \"had not\",\n",
    "                         \"hadn't've\": \"had not have\",\n",
    "                         \"hasn't\": \"has not\", \"haven't\": \"have not\",\n",
    "                         \"he'd\": \"he had / he would\",\n",
    "                         \"he'd've\": \"he would have\",\n",
    "                         \"he'll\": \"he shall / he will\",\n",
    "                         \"he'll've\": \"he shall have / he will have\",\n",
    "                         \"he's\": \"he has / he is\",\n",
    "                         \"how'd\": \"how did\", \"how'd'y\": \"how do you\",\n",
    "                         \"how'll\": \"how will\",\n",
    "                         \"how's\": \"how has / how is / how does\",\n",
    "                         \"I'd\": \"I had / I would\",\n",
    "                         \"I'd've\": \"I would have\", \"I'll\": \"I shall / I will\",\n",
    "                         \"I'll've\": \"I shall have / I will have\",\n",
    "                         \"I'm\": \"I am\", \"I've\": \"I have\",\n",
    "                         \"isn't\": \"is not\", \"it'd\": \"it had / it would\",\n",
    "                         \"it'd've\": \"it would have\",\n",
    "                         \"it'll\": \"it shall / it will\",\n",
    "                         \"it'll've\": \"it shall have / it will have\",\n",
    "                         \"it's\": \"it has / it is\", \"let's\": \"let us\",\n",
    "                         \"ma'am\": \"madam\", \"mayn't\": \"may not\",\n",
    "                         \"might've\": \"might have\", \"mightn't\": \"might not\",\n",
    "                         \"mightn't've\": \"might not have\",\n",
    "                         \"must've\": \"must have\", \"mustn't\": \"must not\",\n",
    "                         \"mustn't've\": \"must not have\",\n",
    "                         \"needn't\": \"need not\",\n",
    "                         \"needn't've\": \"need not have\",\n",
    "                         \"o'clock\": \"of the clock\",\n",
    "                         \"oughtn't\": \"ought not\",\n",
    "                         \"oughtn't've\": \"ought not have\",\n",
    "                         \"shan't\": \"shall not\",\n",
    "                         \"sha'n't\": \"shall not\",\n",
    "                         \"shan't've\": \"shall not have\",\n",
    "                         \"she'd\": \"she had / she would\",\n",
    "                         \"she'd've\": \"she would have\",\n",
    "                         \"she'll\": \"she shall / she will\",\n",
    "                         \"she'll've\": \"she shall have / she will have\",\n",
    "                         \"she's\": \"she has / she is\",\n",
    "                         \"should've\": \"should have\",\n",
    "                         \"shouldn't\": \"should not\",\n",
    "                         \"shouldn't've\": \"should not have\",\n",
    "                         \"so've\": \"so have\",\n",
    "                         \"so's\": \"so as / so is\",\n",
    "                         \"that'd\": \"that would / that had\",\n",
    "                         \"that'd've\": \"that would have\",\n",
    "                         \"that's\": \"that has / that is\",\n",
    "                         \"there'd\": \"there had / there would\",\n",
    "                         \"there'd've\": \"there would have\",\n",
    "                         \"there's\": \"there has / there is\",\n",
    "                         \"they'd\": \"they had / they would\",\n",
    "                         \"they'd've\": \"they would have\",\n",
    "                         \"they'll\": \"they shall / they will\",\n",
    "                         \"they'll've\": \"they shall have / they will have\",\n",
    "                         \"they're\": \"they are\",\n",
    "                         \"they've\": \"they have\", \"to've\": \"to have\",\n",
    "                         \"wasn't\": \"was not\",\n",
    "                         \"we'd\": \"we had / we would\",\n",
    "                         \"we'd've\": \"we would have\",\n",
    "                         \"we'll\": \"we will\", \"we'll've\": \"we will have\",\n",
    "                         \"we're\": \"we are\", \"we've\": \"we have\",\n",
    "                         \"weren't\": \"were not\",\n",
    "                         \"what'll\": \"what shall / what will\",\n",
    "                         \"what'll've\": \"what shall have / what will have\",\n",
    "                         \"what're\": \"what are\", \"what's\": \"what has / what is\",\n",
    "                         \"what've\": \"what have\",\n",
    "                         \"when's\": \"when has / when is\",\n",
    "                         \"when've\": \"when have\",\n",
    "                         \"where'd\": \"where did\",\n",
    "                         \"where's\": \"where has / where is\",\n",
    "                         \"where've\": \"where have\",\n",
    "                         \"who'll\": \"who shall / who will\",\n",
    "                         \"who'll've\": \"who shall have / who will have\",\n",
    "                         \"who's\": \"who has / who is\", \"who've\": \"who have\",\n",
    "                         \"why's\": \"why has / why is\", \"why've\": \"why have\",\n",
    "                         \"will've\": \"will have\",\n",
    "                         \"won't\": \"will not\", \"won't've\": \"will not have\",\n",
    "                         \"would've\": \"would have\",\n",
    "                         \"wouldn't\": \"would not\",\n",
    "                         \"wouldn't've\": \"would not have\",\n",
    "                         \"y'all\": \"you all\", \"y'all'd\": \"you all would\",\n",
    "                         \"y'all'd've\": \"you all would have\",\n",
    "                         \"y'all're\": \"you all are\",\n",
    "                         \"y'all've\": \"you all have\",\n",
    "                         \"you'd\": \"you had / you would\",\n",
    "                         \"you'd've\": \"you would have\",\n",
    "                         \"you'll\": \"you shall / you will\",\n",
    "                         \"you'll've\": \"you shall have / you will have\",\n",
    "                         \"you're\": \"you are\",\n",
    "                         \"you've\": \"you have\"}\n",
    "    for word in text.split():\n",
    "        if word.lower() in contractions_dict:\n",
    "            text = text.replace(word,contractions_dict[word.lower()])\n",
    "# Make text lowercase        \n",
    "    text = str(text).lower() \n",
    "# remove @user, #word and link\n",
    "    text = ' '.join(re.sub(\"(@[A-Za-z0-9]+)|(#[A-Za-z0-9]+)|([^0-9A-Za-z \\t])|(\\w+:\\/\\/\\S+)\",\" \",text).split())\n",
    "# remove punctuation    \n",
    "    text = re.sub('<.*?>+', '', text)\n",
    "    text = re.sub('[%s]' % re.escape(string.punctuation), '', text) \n",
    "    text = re.sub('\\n', '', text)\n",
    "# remove numbers    \n",
    "    text = ''.join([i for i in text[:] if not i.isdigit()])\n",
    "    return text\n",
    "\n",
    "train_df['clean_message']=train_df['message'].apply(lambda x: cleaning(x))\n",
    "test_df['clean_message']=test_df['message'].apply(lambda x: cleaning(x))\n"
   ]
  },
  {
   "cell_type": "code",
   "execution_count": 119,
   "id": "c16c2e69",
   "metadata": {},
   "outputs": [
    {
     "data": {
      "text/html": [
       "<div>\n",
       "<style scoped>\n",
       "    .dataframe tbody tr th:only-of-type {\n",
       "        vertical-align: middle;\n",
       "    }\n",
       "\n",
       "    .dataframe tbody tr th {\n",
       "        vertical-align: top;\n",
       "    }\n",
       "\n",
       "    .dataframe thead th {\n",
       "        text-align: right;\n",
       "    }\n",
       "</style>\n",
       "<table border=\"1\" class=\"dataframe\">\n",
       "  <thead>\n",
       "    <tr style=\"text-align: right;\">\n",
       "      <th></th>\n",
       "      <th>sentiment</th>\n",
       "      <th>message</th>\n",
       "      <th>tweetid</th>\n",
       "      <th>tokens</th>\n",
       "      <th>clean_message</th>\n",
       "    </tr>\n",
       "  </thead>\n",
       "  <tbody>\n",
       "    <tr>\n",
       "      <th>0</th>\n",
       "      <td>1</td>\n",
       "      <td>PolySciMajor EPA chief doesn't think carbon di...</td>\n",
       "      <td>625221</td>\n",
       "      <td>[PolySciMajor, EPA, chief, does, n't, think, c...</td>\n",
       "      <td>polyscimajor epa chief does not think carbon d...</td>\n",
       "    </tr>\n",
       "    <tr>\n",
       "      <th>1</th>\n",
       "      <td>1</td>\n",
       "      <td>It's not like we lack evidence of anthropogeni...</td>\n",
       "      <td>126103</td>\n",
       "      <td>[It, 's, not, like, we, lack, evidence, of, an...</td>\n",
       "      <td>it has it is not like we lack evidence of anth...</td>\n",
       "    </tr>\n",
       "    <tr>\n",
       "      <th>2</th>\n",
       "      <td>2</td>\n",
       "      <td>RT @RawStory: Researchers say we have three ye...</td>\n",
       "      <td>698562</td>\n",
       "      <td>[RT, @, RawStory, :, Researchers, say, we, hav...</td>\n",
       "      <td>rt researchers say we have three years to act ...</td>\n",
       "    </tr>\n",
       "    <tr>\n",
       "      <th>3</th>\n",
       "      <td>1</td>\n",
       "      <td>#TodayinMaker# WIRED : 2016 was a pivotal year...</td>\n",
       "      <td>573736</td>\n",
       "      <td>[#, TodayinMaker, #, WIRED, :, 2016, was, a, p...</td>\n",
       "      <td>wired  was a pivotal year in the war on climat...</td>\n",
       "    </tr>\n",
       "    <tr>\n",
       "      <th>4</th>\n",
       "      <td>1</td>\n",
       "      <td>RT @SoyNovioDeTodas: It's 2016, and a racist, ...</td>\n",
       "      <td>466954</td>\n",
       "      <td>[RT, @, SoyNovioDeTodas, :, It, 's, 2016, ,, a...</td>\n",
       "      <td>rt it has it is  and a racist sexist climate c...</td>\n",
       "    </tr>\n",
       "  </tbody>\n",
       "</table>\n",
       "</div>"
      ],
      "text/plain": [
       "   sentiment                                            message  tweetid  \\\n",
       "0          1  PolySciMajor EPA chief doesn't think carbon di...   625221   \n",
       "1          1  It's not like we lack evidence of anthropogeni...   126103   \n",
       "2          2  RT @RawStory: Researchers say we have three ye...   698562   \n",
       "3          1  #TodayinMaker# WIRED : 2016 was a pivotal year...   573736   \n",
       "4          1  RT @SoyNovioDeTodas: It's 2016, and a racist, ...   466954   \n",
       "\n",
       "                                              tokens  \\\n",
       "0  [PolySciMajor, EPA, chief, does, n't, think, c...   \n",
       "1  [It, 's, not, like, we, lack, evidence, of, an...   \n",
       "2  [RT, @, RawStory, :, Researchers, say, we, hav...   \n",
       "3  [#, TodayinMaker, #, WIRED, :, 2016, was, a, p...   \n",
       "4  [RT, @, SoyNovioDeTodas, :, It, 's, 2016, ,, a...   \n",
       "\n",
       "                                       clean_message  \n",
       "0  polyscimajor epa chief does not think carbon d...  \n",
       "1  it has it is not like we lack evidence of anth...  \n",
       "2  rt researchers say we have three years to act ...  \n",
       "3  wired  was a pivotal year in the war on climat...  \n",
       "4  rt it has it is  and a racist sexist climate c...  "
      ]
     },
     "execution_count": 119,
     "metadata": {},
     "output_type": "execute_result"
    }
   ],
   "source": [
    "train_df.head()"
   ]
  },
  {
   "cell_type": "code",
   "execution_count": 122,
   "id": "b89bd8ca",
   "metadata": {},
   "outputs": [
    {
     "data": {
      "text/plain": [
       "(15819, 5)"
      ]
     },
     "execution_count": 122,
     "metadata": {},
     "output_type": "execute_result"
    }
   ],
   "source": [
    "train_df.shape"
   ]
  },
  {
   "cell_type": "markdown",
   "id": "3469879d",
   "metadata": {},
   "source": [
    "### Natural Language Tool Kit(NLKT)"
   ]
  },
  {
   "cell_type": "markdown",
   "id": "310267ad",
   "metadata": {},
   "source": [
    "Lemmatization"
   ]
  },
  {
   "cell_type": "code",
   "execution_count": 128,
   "id": "92df95a5",
   "metadata": {},
   "outputs": [],
   "source": [
    "nlp = spacy.load(\"en_core_web_sm\")\n",
    "\n",
    "\n",
    "def lemmatizer(text):\n",
    "    \"\"\"The function takes a text and extracts the lemma word\n",
    "    Parameters:\n",
    "    argument(object):The function creates an empty list\n",
    "    to insert all the lemma of the text\n",
    "    Returns:\n",
    "    lemma of the clean message\n",
    "    \"\"\"\n",
    "    sent = []\n",
    "    doc = nlp(text)\n",
    "    for word in doc:\n",
    "        sent.append(word.lemma_)\n",
    "    return \" \".join(sent)\n",
    "\n",
    "train_df[\"lemmaa\"] = train_df.apply(lambda x: lemmatizer(\n",
    "                                   x['clean_message']), axis=1)\n",
    "test_df[\"lemmaa\"] = test_df.apply(lambda x: lemmatizer(\n",
    "                                 x['clean_message']), axis=1)"
   ]
  },
  {
   "cell_type": "code",
   "execution_count": 129,
   "id": "d070f3e8",
   "metadata": {},
   "outputs": [
    {
     "data": {
      "text/html": [
       "<div>\n",
       "<style scoped>\n",
       "    .dataframe tbody tr th:only-of-type {\n",
       "        vertical-align: middle;\n",
       "    }\n",
       "\n",
       "    .dataframe tbody tr th {\n",
       "        vertical-align: top;\n",
       "    }\n",
       "\n",
       "    .dataframe thead th {\n",
       "        text-align: right;\n",
       "    }\n",
       "</style>\n",
       "<table border=\"1\" class=\"dataframe\">\n",
       "  <thead>\n",
       "    <tr style=\"text-align: right;\">\n",
       "      <th></th>\n",
       "      <th>sentiment</th>\n",
       "      <th>message</th>\n",
       "      <th>tweetid</th>\n",
       "      <th>tokens</th>\n",
       "      <th>clean_message</th>\n",
       "      <th>lemmaa</th>\n",
       "    </tr>\n",
       "  </thead>\n",
       "  <tbody>\n",
       "    <tr>\n",
       "      <th>0</th>\n",
       "      <td>1</td>\n",
       "      <td>PolySciMajor EPA chief doesn't think carbon di...</td>\n",
       "      <td>625221</td>\n",
       "      <td>[PolySciMajor, EPA, chief, does, n't, think, c...</td>\n",
       "      <td>polyscimajor epa chief does not think carbon d...</td>\n",
       "      <td>polyscimajor epa chief do not think carbon dio...</td>\n",
       "    </tr>\n",
       "    <tr>\n",
       "      <th>1</th>\n",
       "      <td>1</td>\n",
       "      <td>It's not like we lack evidence of anthropogeni...</td>\n",
       "      <td>126103</td>\n",
       "      <td>[It, 's, not, like, we, lack, evidence, of, an...</td>\n",
       "      <td>it has it is not like we lack evidence of anth...</td>\n",
       "      <td>it have it be not like we lack evidence of ant...</td>\n",
       "    </tr>\n",
       "    <tr>\n",
       "      <th>2</th>\n",
       "      <td>2</td>\n",
       "      <td>RT @RawStory: Researchers say we have three ye...</td>\n",
       "      <td>698562</td>\n",
       "      <td>[RT, @, RawStory, :, Researchers, say, we, hav...</td>\n",
       "      <td>rt researchers say we have three years to act ...</td>\n",
       "      <td>rt researcher say we have three year to act on...</td>\n",
       "    </tr>\n",
       "    <tr>\n",
       "      <th>3</th>\n",
       "      <td>1</td>\n",
       "      <td>#TodayinMaker# WIRED : 2016 was a pivotal year...</td>\n",
       "      <td>573736</td>\n",
       "      <td>[#, TodayinMaker, #, WIRED, :, 2016, was, a, p...</td>\n",
       "      <td>wired  was a pivotal year in the war on climat...</td>\n",
       "      <td>wire   be a pivotal year in the war on climate...</td>\n",
       "    </tr>\n",
       "    <tr>\n",
       "      <th>4</th>\n",
       "      <td>1</td>\n",
       "      <td>RT @SoyNovioDeTodas: It's 2016, and a racist, ...</td>\n",
       "      <td>466954</td>\n",
       "      <td>[RT, @, SoyNovioDeTodas, :, It, 's, 2016, ,, a...</td>\n",
       "      <td>rt it has it is  and a racist sexist climate c...</td>\n",
       "      <td>rt it have it be   and a racist sexist climate...</td>\n",
       "    </tr>\n",
       "  </tbody>\n",
       "</table>\n",
       "</div>"
      ],
      "text/plain": [
       "   sentiment                                            message  tweetid  \\\n",
       "0          1  PolySciMajor EPA chief doesn't think carbon di...   625221   \n",
       "1          1  It's not like we lack evidence of anthropogeni...   126103   \n",
       "2          2  RT @RawStory: Researchers say we have three ye...   698562   \n",
       "3          1  #TodayinMaker# WIRED : 2016 was a pivotal year...   573736   \n",
       "4          1  RT @SoyNovioDeTodas: It's 2016, and a racist, ...   466954   \n",
       "\n",
       "                                              tokens  \\\n",
       "0  [PolySciMajor, EPA, chief, does, n't, think, c...   \n",
       "1  [It, 's, not, like, we, lack, evidence, of, an...   \n",
       "2  [RT, @, RawStory, :, Researchers, say, we, hav...   \n",
       "3  [#, TodayinMaker, #, WIRED, :, 2016, was, a, p...   \n",
       "4  [RT, @, SoyNovioDeTodas, :, It, 's, 2016, ,, a...   \n",
       "\n",
       "                                       clean_message  \\\n",
       "0  polyscimajor epa chief does not think carbon d...   \n",
       "1  it has it is not like we lack evidence of anth...   \n",
       "2  rt researchers say we have three years to act ...   \n",
       "3  wired  was a pivotal year in the war on climat...   \n",
       "4  rt it has it is  and a racist sexist climate c...   \n",
       "\n",
       "                                              lemmaa  \n",
       "0  polyscimajor epa chief do not think carbon dio...  \n",
       "1  it have it be not like we lack evidence of ant...  \n",
       "2  rt researcher say we have three year to act on...  \n",
       "3  wire   be a pivotal year in the war on climate...  \n",
       "4  rt it have it be   and a racist sexist climate...  "
      ]
     },
     "execution_count": 129,
     "metadata": {},
     "output_type": "execute_result"
    }
   ],
   "source": [
    "train_df.head()"
   ]
  },
  {
   "cell_type": "markdown",
   "id": "e7a7d93e",
   "metadata": {},
   "source": [
    "Removing \"rt\"\n"
   ]
  },
  {
   "cell_type": "markdown",
   "id": "c7569eb8",
   "metadata": {},
   "source": [
    "This is removed because it does not add any significance to the text."
   ]
  },
  {
   "cell_type": "code",
   "execution_count": 131,
   "id": "989e7e8b",
   "metadata": {},
   "outputs": [],
   "source": [
    "# removing rt\n",
    "def remove(text):\n",
    "    \"\"\"\n",
    "    removes rt from the lemmatized words,\n",
    "    returns clean lemma words without rt\n",
    "    \"\"\"\n",
    "    text = re.sub(r'rt', '', text)\n",
    "    return text\n",
    "\n",
    "train_df['clean_lemma'] = train_df['lemmaa'].apply(lambda x: remove(x))\n",
    "test_df['clean_lemma'] = test_df['lemmaa'].apply(lambda x: remove(x))"
   ]
  },
  {
   "cell_type": "code",
   "execution_count": 133,
   "id": "8a9dde73",
   "metadata": {},
   "outputs": [
    {
     "data": {
      "text/html": [
       "<div>\n",
       "<style scoped>\n",
       "    .dataframe tbody tr th:only-of-type {\n",
       "        vertical-align: middle;\n",
       "    }\n",
       "\n",
       "    .dataframe tbody tr th {\n",
       "        vertical-align: top;\n",
       "    }\n",
       "\n",
       "    .dataframe thead th {\n",
       "        text-align: right;\n",
       "    }\n",
       "</style>\n",
       "<table border=\"1\" class=\"dataframe\">\n",
       "  <thead>\n",
       "    <tr style=\"text-align: right;\">\n",
       "      <th></th>\n",
       "      <th>sentiment</th>\n",
       "      <th>message</th>\n",
       "      <th>tweetid</th>\n",
       "      <th>tokens</th>\n",
       "      <th>clean_message</th>\n",
       "      <th>lemmaa</th>\n",
       "      <th>clean_lemma</th>\n",
       "    </tr>\n",
       "  </thead>\n",
       "  <tbody>\n",
       "    <tr>\n",
       "      <th>0</th>\n",
       "      <td>1</td>\n",
       "      <td>PolySciMajor EPA chief doesn't think carbon di...</td>\n",
       "      <td>625221</td>\n",
       "      <td>[PolySciMajor, EPA, chief, does, n't, think, c...</td>\n",
       "      <td>polyscimajor epa chief does not think carbon d...</td>\n",
       "      <td>polyscimajor epa chief do not think carbon dio...</td>\n",
       "      <td>polyscimajor epa chief do not think carbon dio...</td>\n",
       "    </tr>\n",
       "    <tr>\n",
       "      <th>1</th>\n",
       "      <td>1</td>\n",
       "      <td>It's not like we lack evidence of anthropogeni...</td>\n",
       "      <td>126103</td>\n",
       "      <td>[It, 's, not, like, we, lack, evidence, of, an...</td>\n",
       "      <td>it has it is not like we lack evidence of anth...</td>\n",
       "      <td>it have it be not like we lack evidence of ant...</td>\n",
       "      <td>it have it be not like we lack evidence of ant...</td>\n",
       "    </tr>\n",
       "    <tr>\n",
       "      <th>2</th>\n",
       "      <td>2</td>\n",
       "      <td>RT @RawStory: Researchers say we have three ye...</td>\n",
       "      <td>698562</td>\n",
       "      <td>[RT, @, RawStory, :, Researchers, say, we, hav...</td>\n",
       "      <td>rt researchers say we have three years to act ...</td>\n",
       "      <td>rt researcher say we have three year to act on...</td>\n",
       "      <td>researcher say we have three year to act on c...</td>\n",
       "    </tr>\n",
       "    <tr>\n",
       "      <th>3</th>\n",
       "      <td>1</td>\n",
       "      <td>#TodayinMaker# WIRED : 2016 was a pivotal year...</td>\n",
       "      <td>573736</td>\n",
       "      <td>[#, TodayinMaker, #, WIRED, :, 2016, was, a, p...</td>\n",
       "      <td>wired  was a pivotal year in the war on climat...</td>\n",
       "      <td>wire   be a pivotal year in the war on climate...</td>\n",
       "      <td>wire   be a pivotal year in the war on climate...</td>\n",
       "    </tr>\n",
       "    <tr>\n",
       "      <th>4</th>\n",
       "      <td>1</td>\n",
       "      <td>RT @SoyNovioDeTodas: It's 2016, and a racist, ...</td>\n",
       "      <td>466954</td>\n",
       "      <td>[RT, @, SoyNovioDeTodas, :, It, 's, 2016, ,, a...</td>\n",
       "      <td>rt it has it is  and a racist sexist climate c...</td>\n",
       "      <td>rt it have it be   and a racist sexist climate...</td>\n",
       "      <td>it have it be   and a racist sexist climate c...</td>\n",
       "    </tr>\n",
       "  </tbody>\n",
       "</table>\n",
       "</div>"
      ],
      "text/plain": [
       "   sentiment                                            message  tweetid  \\\n",
       "0          1  PolySciMajor EPA chief doesn't think carbon di...   625221   \n",
       "1          1  It's not like we lack evidence of anthropogeni...   126103   \n",
       "2          2  RT @RawStory: Researchers say we have three ye...   698562   \n",
       "3          1  #TodayinMaker# WIRED : 2016 was a pivotal year...   573736   \n",
       "4          1  RT @SoyNovioDeTodas: It's 2016, and a racist, ...   466954   \n",
       "\n",
       "                                              tokens  \\\n",
       "0  [PolySciMajor, EPA, chief, does, n't, think, c...   \n",
       "1  [It, 's, not, like, we, lack, evidence, of, an...   \n",
       "2  [RT, @, RawStory, :, Researchers, say, we, hav...   \n",
       "3  [#, TodayinMaker, #, WIRED, :, 2016, was, a, p...   \n",
       "4  [RT, @, SoyNovioDeTodas, :, It, 's, 2016, ,, a...   \n",
       "\n",
       "                                       clean_message  \\\n",
       "0  polyscimajor epa chief does not think carbon d...   \n",
       "1  it has it is not like we lack evidence of anth...   \n",
       "2  rt researchers say we have three years to act ...   \n",
       "3  wired  was a pivotal year in the war on climat...   \n",
       "4  rt it has it is  and a racist sexist climate c...   \n",
       "\n",
       "                                              lemmaa  \\\n",
       "0  polyscimajor epa chief do not think carbon dio...   \n",
       "1  it have it be not like we lack evidence of ant...   \n",
       "2  rt researcher say we have three year to act on...   \n",
       "3  wire   be a pivotal year in the war on climate...   \n",
       "4  rt it have it be   and a racist sexist climate...   \n",
       "\n",
       "                                         clean_lemma  \n",
       "0  polyscimajor epa chief do not think carbon dio...  \n",
       "1  it have it be not like we lack evidence of ant...  \n",
       "2   researcher say we have three year to act on c...  \n",
       "3  wire   be a pivotal year in the war on climate...  \n",
       "4   it have it be   and a racist sexist climate c...  "
      ]
     },
     "execution_count": 133,
     "metadata": {},
     "output_type": "execute_result"
    }
   ],
   "source": [
    "train_df.head()"
   ]
  },
  {
   "cell_type": "markdown",
   "id": "c7454adb",
   "metadata": {},
   "source": [
    "Removing words shorter than 3"
   ]
  },
  {
   "cell_type": "code",
   "execution_count": 135,
   "id": "4d358353",
   "metadata": {},
   "outputs": [],
   "source": [
    "train_df['clean_lemma'] = train_df['clean_lemma'].apply(lambda x: ' '.join([w for w in x.split() if len(w)>3]))\n",
    "test_df['clean_lemma'] = test_df['clean_lemma'].apply(lambda x: ' '.join([w for w in x.split() if len(w)>3]))"
   ]
  },
  {
   "cell_type": "code",
   "execution_count": 137,
   "id": "5557319c",
   "metadata": {},
   "outputs": [
    {
     "data": {
      "text/html": [
       "<div>\n",
       "<style scoped>\n",
       "    .dataframe tbody tr th:only-of-type {\n",
       "        vertical-align: middle;\n",
       "    }\n",
       "\n",
       "    .dataframe tbody tr th {\n",
       "        vertical-align: top;\n",
       "    }\n",
       "\n",
       "    .dataframe thead th {\n",
       "        text-align: right;\n",
       "    }\n",
       "</style>\n",
       "<table border=\"1\" class=\"dataframe\">\n",
       "  <thead>\n",
       "    <tr style=\"text-align: right;\">\n",
       "      <th></th>\n",
       "      <th>sentiment</th>\n",
       "      <th>message</th>\n",
       "      <th>tweetid</th>\n",
       "      <th>tokens</th>\n",
       "      <th>clean_message</th>\n",
       "      <th>lemmaa</th>\n",
       "      <th>clean_lemma</th>\n",
       "    </tr>\n",
       "  </thead>\n",
       "  <tbody>\n",
       "    <tr>\n",
       "      <th>0</th>\n",
       "      <td>1</td>\n",
       "      <td>PolySciMajor EPA chief doesn't think carbon di...</td>\n",
       "      <td>625221</td>\n",
       "      <td>[PolySciMajor, EPA, chief, does, n't, think, c...</td>\n",
       "      <td>polyscimajor epa chief does not think carbon d...</td>\n",
       "      <td>polyscimajor epa chief do not think carbon dio...</td>\n",
       "      <td>polyscimajor chief think carbon dioxide main c...</td>\n",
       "    </tr>\n",
       "    <tr>\n",
       "      <th>1</th>\n",
       "      <td>1</td>\n",
       "      <td>It's not like we lack evidence of anthropogeni...</td>\n",
       "      <td>126103</td>\n",
       "      <td>[It, 's, not, like, we, lack, evidence, of, an...</td>\n",
       "      <td>it has it is not like we lack evidence of anth...</td>\n",
       "      <td>it have it be not like we lack evidence of ant...</td>\n",
       "      <td>have like lack evidence anthropogenic global w...</td>\n",
       "    </tr>\n",
       "    <tr>\n",
       "      <th>2</th>\n",
       "      <td>2</td>\n",
       "      <td>RT @RawStory: Researchers say we have three ye...</td>\n",
       "      <td>698562</td>\n",
       "      <td>[RT, @, RawStory, :, Researchers, say, we, hav...</td>\n",
       "      <td>rt researchers say we have three years to act ...</td>\n",
       "      <td>rt researcher say we have three year to act on...</td>\n",
       "      <td>researcher have three year climate change befo...</td>\n",
       "    </tr>\n",
       "    <tr>\n",
       "      <th>3</th>\n",
       "      <td>1</td>\n",
       "      <td>#TodayinMaker# WIRED : 2016 was a pivotal year...</td>\n",
       "      <td>573736</td>\n",
       "      <td>[#, TodayinMaker, #, WIRED, :, 2016, was, a, p...</td>\n",
       "      <td>wired  was a pivotal year in the war on climat...</td>\n",
       "      <td>wire   be a pivotal year in the war on climate...</td>\n",
       "      <td>wire pivotal year climate change</td>\n",
       "    </tr>\n",
       "    <tr>\n",
       "      <th>4</th>\n",
       "      <td>1</td>\n",
       "      <td>RT @SoyNovioDeTodas: It's 2016, and a racist, ...</td>\n",
       "      <td>466954</td>\n",
       "      <td>[RT, @, SoyNovioDeTodas, :, It, 's, 2016, ,, a...</td>\n",
       "      <td>rt it has it is  and a racist sexist climate c...</td>\n",
       "      <td>rt it have it be   and a racist sexist climate...</td>\n",
       "      <td>have racist sexist climate change deny bigot l...</td>\n",
       "    </tr>\n",
       "  </tbody>\n",
       "</table>\n",
       "</div>"
      ],
      "text/plain": [
       "   sentiment                                            message  tweetid  \\\n",
       "0          1  PolySciMajor EPA chief doesn't think carbon di...   625221   \n",
       "1          1  It's not like we lack evidence of anthropogeni...   126103   \n",
       "2          2  RT @RawStory: Researchers say we have three ye...   698562   \n",
       "3          1  #TodayinMaker# WIRED : 2016 was a pivotal year...   573736   \n",
       "4          1  RT @SoyNovioDeTodas: It's 2016, and a racist, ...   466954   \n",
       "\n",
       "                                              tokens  \\\n",
       "0  [PolySciMajor, EPA, chief, does, n't, think, c...   \n",
       "1  [It, 's, not, like, we, lack, evidence, of, an...   \n",
       "2  [RT, @, RawStory, :, Researchers, say, we, hav...   \n",
       "3  [#, TodayinMaker, #, WIRED, :, 2016, was, a, p...   \n",
       "4  [RT, @, SoyNovioDeTodas, :, It, 's, 2016, ,, a...   \n",
       "\n",
       "                                       clean_message  \\\n",
       "0  polyscimajor epa chief does not think carbon d...   \n",
       "1  it has it is not like we lack evidence of anth...   \n",
       "2  rt researchers say we have three years to act ...   \n",
       "3  wired  was a pivotal year in the war on climat...   \n",
       "4  rt it has it is  and a racist sexist climate c...   \n",
       "\n",
       "                                              lemmaa  \\\n",
       "0  polyscimajor epa chief do not think carbon dio...   \n",
       "1  it have it be not like we lack evidence of ant...   \n",
       "2  rt researcher say we have three year to act on...   \n",
       "3  wire   be a pivotal year in the war on climate...   \n",
       "4  rt it have it be   and a racist sexist climate...   \n",
       "\n",
       "                                         clean_lemma  \n",
       "0  polyscimajor chief think carbon dioxide main c...  \n",
       "1  have like lack evidence anthropogenic global w...  \n",
       "2  researcher have three year climate change befo...  \n",
       "3                   wire pivotal year climate change  \n",
       "4  have racist sexist climate change deny bigot l...  "
      ]
     },
     "execution_count": 137,
     "metadata": {},
     "output_type": "execute_result"
    }
   ],
   "source": [
    "train_df.head()"
   ]
  },
  {
   "cell_type": "markdown",
   "id": "0e0b1c55",
   "metadata": {},
   "source": [
    "Tokenization"
   ]
  },
  {
   "cell_type": "code",
   "execution_count": 139,
   "id": "51b9b8d9",
   "metadata": {},
   "outputs": [],
   "source": [
    "def tokenization(text):\n",
    "    \"\"\"\n",
    "    split the message into token of words\n",
    "    Returns a token of each word contained in the text(tweet)\n",
    "    \"\"\"\n",
    "    text = word_tokenize(text)\n",
    "    return text\n",
    "\n",
    "train_df['tokenized_message'] = train_df['clean_lemma'].apply(lambda x:\n",
    "                                                              tokenization\n",
    "                                                              (x.lower()))\n",
    "test_df['tokenized_message'] = test_df['clean_lemma'].apply(lambda x:\n",
    "                                                            tokenization\n",
    "                                                            (x.lower()))"
   ]
  },
  {
   "cell_type": "code",
   "execution_count": 141,
   "id": "13b41cda",
   "metadata": {},
   "outputs": [
    {
     "data": {
      "text/html": [
       "<div>\n",
       "<style scoped>\n",
       "    .dataframe tbody tr th:only-of-type {\n",
       "        vertical-align: middle;\n",
       "    }\n",
       "\n",
       "    .dataframe tbody tr th {\n",
       "        vertical-align: top;\n",
       "    }\n",
       "\n",
       "    .dataframe thead th {\n",
       "        text-align: right;\n",
       "    }\n",
       "</style>\n",
       "<table border=\"1\" class=\"dataframe\">\n",
       "  <thead>\n",
       "    <tr style=\"text-align: right;\">\n",
       "      <th></th>\n",
       "      <th>sentiment</th>\n",
       "      <th>message</th>\n",
       "      <th>tweetid</th>\n",
       "      <th>tokens</th>\n",
       "      <th>clean_message</th>\n",
       "      <th>lemmaa</th>\n",
       "      <th>clean_lemma</th>\n",
       "      <th>tokenized_message</th>\n",
       "    </tr>\n",
       "  </thead>\n",
       "  <tbody>\n",
       "    <tr>\n",
       "      <th>0</th>\n",
       "      <td>1</td>\n",
       "      <td>PolySciMajor EPA chief doesn't think carbon di...</td>\n",
       "      <td>625221</td>\n",
       "      <td>[PolySciMajor, EPA, chief, does, n't, think, c...</td>\n",
       "      <td>polyscimajor epa chief does not think carbon d...</td>\n",
       "      <td>polyscimajor epa chief do not think carbon dio...</td>\n",
       "      <td>polyscimajor chief think carbon dioxide main c...</td>\n",
       "      <td>[polyscimajor, chief, think, carbon, dioxide, ...</td>\n",
       "    </tr>\n",
       "    <tr>\n",
       "      <th>1</th>\n",
       "      <td>1</td>\n",
       "      <td>It's not like we lack evidence of anthropogeni...</td>\n",
       "      <td>126103</td>\n",
       "      <td>[It, 's, not, like, we, lack, evidence, of, an...</td>\n",
       "      <td>it has it is not like we lack evidence of anth...</td>\n",
       "      <td>it have it be not like we lack evidence of ant...</td>\n",
       "      <td>have like lack evidence anthropogenic global w...</td>\n",
       "      <td>[have, like, lack, evidence, anthropogenic, gl...</td>\n",
       "    </tr>\n",
       "    <tr>\n",
       "      <th>2</th>\n",
       "      <td>2</td>\n",
       "      <td>RT @RawStory: Researchers say we have three ye...</td>\n",
       "      <td>698562</td>\n",
       "      <td>[RT, @, RawStory, :, Researchers, say, we, hav...</td>\n",
       "      <td>rt researchers say we have three years to act ...</td>\n",
       "      <td>rt researcher say we have three year to act on...</td>\n",
       "      <td>researcher have three year climate change befo...</td>\n",
       "      <td>[researcher, have, three, year, climate, chang...</td>\n",
       "    </tr>\n",
       "    <tr>\n",
       "      <th>3</th>\n",
       "      <td>1</td>\n",
       "      <td>#TodayinMaker# WIRED : 2016 was a pivotal year...</td>\n",
       "      <td>573736</td>\n",
       "      <td>[#, TodayinMaker, #, WIRED, :, 2016, was, a, p...</td>\n",
       "      <td>wired  was a pivotal year in the war on climat...</td>\n",
       "      <td>wire   be a pivotal year in the war on climate...</td>\n",
       "      <td>wire pivotal year climate change</td>\n",
       "      <td>[wire, pivotal, year, climate, change]</td>\n",
       "    </tr>\n",
       "    <tr>\n",
       "      <th>4</th>\n",
       "      <td>1</td>\n",
       "      <td>RT @SoyNovioDeTodas: It's 2016, and a racist, ...</td>\n",
       "      <td>466954</td>\n",
       "      <td>[RT, @, SoyNovioDeTodas, :, It, 's, 2016, ,, a...</td>\n",
       "      <td>rt it has it is  and a racist sexist climate c...</td>\n",
       "      <td>rt it have it be   and a racist sexist climate...</td>\n",
       "      <td>have racist sexist climate change deny bigot l...</td>\n",
       "      <td>[have, racist, sexist, climate, change, deny, ...</td>\n",
       "    </tr>\n",
       "  </tbody>\n",
       "</table>\n",
       "</div>"
      ],
      "text/plain": [
       "   sentiment                                            message  tweetid  \\\n",
       "0          1  PolySciMajor EPA chief doesn't think carbon di...   625221   \n",
       "1          1  It's not like we lack evidence of anthropogeni...   126103   \n",
       "2          2  RT @RawStory: Researchers say we have three ye...   698562   \n",
       "3          1  #TodayinMaker# WIRED : 2016 was a pivotal year...   573736   \n",
       "4          1  RT @SoyNovioDeTodas: It's 2016, and a racist, ...   466954   \n",
       "\n",
       "                                              tokens  \\\n",
       "0  [PolySciMajor, EPA, chief, does, n't, think, c...   \n",
       "1  [It, 's, not, like, we, lack, evidence, of, an...   \n",
       "2  [RT, @, RawStory, :, Researchers, say, we, hav...   \n",
       "3  [#, TodayinMaker, #, WIRED, :, 2016, was, a, p...   \n",
       "4  [RT, @, SoyNovioDeTodas, :, It, 's, 2016, ,, a...   \n",
       "\n",
       "                                       clean_message  \\\n",
       "0  polyscimajor epa chief does not think carbon d...   \n",
       "1  it has it is not like we lack evidence of anth...   \n",
       "2  rt researchers say we have three years to act ...   \n",
       "3  wired  was a pivotal year in the war on climat...   \n",
       "4  rt it has it is  and a racist sexist climate c...   \n",
       "\n",
       "                                              lemmaa  \\\n",
       "0  polyscimajor epa chief do not think carbon dio...   \n",
       "1  it have it be not like we lack evidence of ant...   \n",
       "2  rt researcher say we have three year to act on...   \n",
       "3  wire   be a pivotal year in the war on climate...   \n",
       "4  rt it have it be   and a racist sexist climate...   \n",
       "\n",
       "                                         clean_lemma  \\\n",
       "0  polyscimajor chief think carbon dioxide main c...   \n",
       "1  have like lack evidence anthropogenic global w...   \n",
       "2  researcher have three year climate change befo...   \n",
       "3                   wire pivotal year climate change   \n",
       "4  have racist sexist climate change deny bigot l...   \n",
       "\n",
       "                                   tokenized_message  \n",
       "0  [polyscimajor, chief, think, carbon, dioxide, ...  \n",
       "1  [have, like, lack, evidence, anthropogenic, gl...  \n",
       "2  [researcher, have, three, year, climate, chang...  \n",
       "3             [wire, pivotal, year, climate, change]  \n",
       "4  [have, racist, sexist, climate, change, deny, ...  "
      ]
     },
     "execution_count": 141,
     "metadata": {},
     "output_type": "execute_result"
    }
   ],
   "source": [
    "train_df.head()"
   ]
  },
  {
   "cell_type": "markdown",
   "id": "5b0bc0aa",
   "metadata": {},
   "source": [
    "Stop words"
   ]
  },
  {
   "cell_type": "code",
   "execution_count": 142,
   "id": "c3231a0c",
   "metadata": {},
   "outputs": [
    {
     "name": "stdout",
     "output_type": "stream",
     "text": [
      "{'you', 'there', 're', 'no', 'an', 'few', 'from', \"you've\", \"you'd\", 'above', 'not', 'yourself', 'couldn', 'about', 'while', 'its', 's', 'both', 'yourselves', 'had', 'be', 'shan', 'hadn', 'should', 'up', 'am', \"aren't\", 'won', 'further', 'with', 'him', \"wouldn't\", 'and', 'where', 'me', 'my', 'the', \"mustn't\", 'she', 'will', 'who', 'because', 'shouldn', 'll', 'm', 'wouldn', 'that', 'of', 'through', 'isn', 'ours', \"isn't\", 'now', 'before', 'being', 'y', 'mightn', 'them', 'didn', 'but', 'by', 'each', 'has', 'ma', 'have', 'was', 'then', 'any', \"you're\", 'too', 'or', 'how', 'theirs', 'out', 'what', 'down', 'just', 'is', 'doesn', 'o', 'more', 'aren', 'most', 'his', 'himself', 'once', 'needn', 'hers', \"you'll\", 't', 'if', 'against', 'it', 'for', 'whom', \"haven't\", 'they', 'so', \"don't\", 'these', 'below', \"needn't\", \"mightn't\", 'this', 'at', 'on', 'herself', 'i', 'yours', 'those', 'can', \"doesn't\", 'into', 'in', 'did', 'ain', 'd', 'when', 'he', 'their', \"couldn't\", 'between', 'during', 'other', \"won't\", 'we', 'some', \"weren't\", 'itself', 'same', 'a', 'to', 'here', 'again', 'own', \"wasn't\", \"it's\", 'under', 'as', \"she's\", 'all', 'over', 'your', 'such', 'our', \"should've\", \"didn't\", 'off', 'very', 'her', \"hadn't\", 'haven', 'nor', 'doing', 've', 'were', \"that'll\", \"hasn't\", 'themselves', 'been', 'only', 'wasn', 'why', 'after', 'than', 'does', 'which', 'having', 'ourselves', 'hasn', \"shouldn't\", 'mustn', 'don', 'weren', 'do', \"shan't\", 'myself', 'until', 'are'}\n"
     ]
    }
   ],
   "source": [
    "## NlP Processing\n",
    "ps = PorterStemmer()\n",
    "lemma = WordNetLemmatizer()\n",
    "\n",
    "## Checking for stopwords\n",
    "stop_words=set(stopwords.words(\"english\"))\n",
    "print(stop_words)"
   ]
  },
  {
   "cell_type": "markdown",
   "id": "e06ac51f",
   "metadata": {},
   "source": [
    "Removing stop words"
   ]
  },
  {
   "cell_type": "code",
   "execution_count": 143,
   "id": "d576e3a8",
   "metadata": {},
   "outputs": [],
   "source": [
    "# removing stop words\n",
    "train_df['clean_stp_words'] = train_df[\n",
    "                                       'tokenized_message'].apply(\n",
    "                                        lambda x: [item for item in x\n",
    "                                                   if item not in stop_words])\n",
    "\n",
    "test_df['clean_stp_words'] = test_df[\n",
    "                                    'tokenized_message'].apply(\n",
    "                                    lambda x: [item for item in x\n",
    "                                               if item not in stop_words])"
   ]
  },
  {
   "cell_type": "code",
   "execution_count": 145,
   "id": "82107d93",
   "metadata": {
    "collapsed": true
   },
   "outputs": [
    {
     "data": {
      "text/html": [
       "<div>\n",
       "<style scoped>\n",
       "    .dataframe tbody tr th:only-of-type {\n",
       "        vertical-align: middle;\n",
       "    }\n",
       "\n",
       "    .dataframe tbody tr th {\n",
       "        vertical-align: top;\n",
       "    }\n",
       "\n",
       "    .dataframe thead th {\n",
       "        text-align: right;\n",
       "    }\n",
       "</style>\n",
       "<table border=\"1\" class=\"dataframe\">\n",
       "  <thead>\n",
       "    <tr style=\"text-align: right;\">\n",
       "      <th></th>\n",
       "      <th>sentiment</th>\n",
       "      <th>message</th>\n",
       "      <th>tweetid</th>\n",
       "      <th>tokens</th>\n",
       "      <th>clean_message</th>\n",
       "      <th>lemmaa</th>\n",
       "      <th>clean_lemma</th>\n",
       "      <th>tokenized_message</th>\n",
       "      <th>clean_stp_words</th>\n",
       "    </tr>\n",
       "  </thead>\n",
       "  <tbody>\n",
       "    <tr>\n",
       "      <th>0</th>\n",
       "      <td>1</td>\n",
       "      <td>PolySciMajor EPA chief doesn't think carbon di...</td>\n",
       "      <td>625221</td>\n",
       "      <td>[PolySciMajor, EPA, chief, does, n't, think, c...</td>\n",
       "      <td>polyscimajor epa chief does not think carbon d...</td>\n",
       "      <td>polyscimajor epa chief do not think carbon dio...</td>\n",
       "      <td>polyscimajor chief think carbon dioxide main c...</td>\n",
       "      <td>[polyscimajor, chief, think, carbon, dioxide, ...</td>\n",
       "      <td>[polyscimajor, chief, think, carbon, dioxide, ...</td>\n",
       "    </tr>\n",
       "    <tr>\n",
       "      <th>1</th>\n",
       "      <td>1</td>\n",
       "      <td>It's not like we lack evidence of anthropogeni...</td>\n",
       "      <td>126103</td>\n",
       "      <td>[It, 's, not, like, we, lack, evidence, of, an...</td>\n",
       "      <td>it has it is not like we lack evidence of anth...</td>\n",
       "      <td>it have it be not like we lack evidence of ant...</td>\n",
       "      <td>have like lack evidence anthropogenic global w...</td>\n",
       "      <td>[have, like, lack, evidence, anthropogenic, gl...</td>\n",
       "      <td>[like, lack, evidence, anthropogenic, global, ...</td>\n",
       "    </tr>\n",
       "    <tr>\n",
       "      <th>2</th>\n",
       "      <td>2</td>\n",
       "      <td>RT @RawStory: Researchers say we have three ye...</td>\n",
       "      <td>698562</td>\n",
       "      <td>[RT, @, RawStory, :, Researchers, say, we, hav...</td>\n",
       "      <td>rt researchers say we have three years to act ...</td>\n",
       "      <td>rt researcher say we have three year to act on...</td>\n",
       "      <td>researcher have three year climate change befo...</td>\n",
       "      <td>[researcher, have, three, year, climate, chang...</td>\n",
       "      <td>[researcher, three, year, climate, change, late]</td>\n",
       "    </tr>\n",
       "    <tr>\n",
       "      <th>3</th>\n",
       "      <td>1</td>\n",
       "      <td>#TodayinMaker# WIRED : 2016 was a pivotal year...</td>\n",
       "      <td>573736</td>\n",
       "      <td>[#, TodayinMaker, #, WIRED, :, 2016, was, a, p...</td>\n",
       "      <td>wired  was a pivotal year in the war on climat...</td>\n",
       "      <td>wire   be a pivotal year in the war on climate...</td>\n",
       "      <td>wire pivotal year climate change</td>\n",
       "      <td>[wire, pivotal, year, climate, change]</td>\n",
       "      <td>[wire, pivotal, year, climate, change]</td>\n",
       "    </tr>\n",
       "    <tr>\n",
       "      <th>4</th>\n",
       "      <td>1</td>\n",
       "      <td>RT @SoyNovioDeTodas: It's 2016, and a racist, ...</td>\n",
       "      <td>466954</td>\n",
       "      <td>[RT, @, SoyNovioDeTodas, :, It, 's, 2016, ,, a...</td>\n",
       "      <td>rt it has it is  and a racist sexist climate c...</td>\n",
       "      <td>rt it have it be   and a racist sexist climate...</td>\n",
       "      <td>have racist sexist climate change deny bigot l...</td>\n",
       "      <td>[have, racist, sexist, climate, change, deny, ...</td>\n",
       "      <td>[racist, sexist, climate, change, deny, bigot,...</td>\n",
       "    </tr>\n",
       "  </tbody>\n",
       "</table>\n",
       "</div>"
      ],
      "text/plain": [
       "   sentiment                                            message  tweetid  \\\n",
       "0          1  PolySciMajor EPA chief doesn't think carbon di...   625221   \n",
       "1          1  It's not like we lack evidence of anthropogeni...   126103   \n",
       "2          2  RT @RawStory: Researchers say we have three ye...   698562   \n",
       "3          1  #TodayinMaker# WIRED : 2016 was a pivotal year...   573736   \n",
       "4          1  RT @SoyNovioDeTodas: It's 2016, and a racist, ...   466954   \n",
       "\n",
       "                                              tokens  \\\n",
       "0  [PolySciMajor, EPA, chief, does, n't, think, c...   \n",
       "1  [It, 's, not, like, we, lack, evidence, of, an...   \n",
       "2  [RT, @, RawStory, :, Researchers, say, we, hav...   \n",
       "3  [#, TodayinMaker, #, WIRED, :, 2016, was, a, p...   \n",
       "4  [RT, @, SoyNovioDeTodas, :, It, 's, 2016, ,, a...   \n",
       "\n",
       "                                       clean_message  \\\n",
       "0  polyscimajor epa chief does not think carbon d...   \n",
       "1  it has it is not like we lack evidence of anth...   \n",
       "2  rt researchers say we have three years to act ...   \n",
       "3  wired  was a pivotal year in the war on climat...   \n",
       "4  rt it has it is  and a racist sexist climate c...   \n",
       "\n",
       "                                              lemmaa  \\\n",
       "0  polyscimajor epa chief do not think carbon dio...   \n",
       "1  it have it be not like we lack evidence of ant...   \n",
       "2  rt researcher say we have three year to act on...   \n",
       "3  wire   be a pivotal year in the war on climate...   \n",
       "4  rt it have it be   and a racist sexist climate...   \n",
       "\n",
       "                                         clean_lemma  \\\n",
       "0  polyscimajor chief think carbon dioxide main c...   \n",
       "1  have like lack evidence anthropogenic global w...   \n",
       "2  researcher have three year climate change befo...   \n",
       "3                   wire pivotal year climate change   \n",
       "4  have racist sexist climate change deny bigot l...   \n",
       "\n",
       "                                   tokenized_message  \\\n",
       "0  [polyscimajor, chief, think, carbon, dioxide, ...   \n",
       "1  [have, like, lack, evidence, anthropogenic, gl...   \n",
       "2  [researcher, have, three, year, climate, chang...   \n",
       "3             [wire, pivotal, year, climate, change]   \n",
       "4  [have, racist, sexist, climate, change, deny, ...   \n",
       "\n",
       "                                     clean_stp_words  \n",
       "0  [polyscimajor, chief, think, carbon, dioxide, ...  \n",
       "1  [like, lack, evidence, anthropogenic, global, ...  \n",
       "2   [researcher, three, year, climate, change, late]  \n",
       "3             [wire, pivotal, year, climate, change]  \n",
       "4  [racist, sexist, climate, change, deny, bigot,...  "
      ]
     },
     "execution_count": 145,
     "metadata": {},
     "output_type": "execute_result"
    }
   ],
   "source": [
    "train_df.head()"
   ]
  },
  {
   "cell_type": "markdown",
   "id": "23aaa6ab",
   "metadata": {},
   "source": [
    "Detokenization"
   ]
  },
  {
   "cell_type": "code",
   "execution_count": 148,
   "id": "3e0c6ccd",
   "metadata": {},
   "outputs": [],
   "source": [
    "def detokenization(text):\n",
    "    \"\"\"\n",
    "    Takes the tokenized text and removes the tokenization\n",
    "    Returns text that is detokenized\n",
    "    \"\"\"\n",
    "    detokenizer = Detok()\n",
    "    text = detokenizer.detokenize(text)\n",
    "    return text\n",
    "train_df['detokenized_message'] = train_df['clean_stp_words'].apply(lambda x:\n",
    "                                                            detokenization(x))\n",
    "\n",
    "test_df['detokenized_message'] = test_df['clean_stp_words'].apply(lambda x:\n",
    "                                                          detokenization(x))"
   ]
  },
  {
   "cell_type": "code",
   "execution_count": 149,
   "id": "42fae8fe",
   "metadata": {},
   "outputs": [
    {
     "data": {
      "text/html": [
       "<div>\n",
       "<style scoped>\n",
       "    .dataframe tbody tr th:only-of-type {\n",
       "        vertical-align: middle;\n",
       "    }\n",
       "\n",
       "    .dataframe tbody tr th {\n",
       "        vertical-align: top;\n",
       "    }\n",
       "\n",
       "    .dataframe thead th {\n",
       "        text-align: right;\n",
       "    }\n",
       "</style>\n",
       "<table border=\"1\" class=\"dataframe\">\n",
       "  <thead>\n",
       "    <tr style=\"text-align: right;\">\n",
       "      <th></th>\n",
       "      <th>sentiment</th>\n",
       "      <th>message</th>\n",
       "      <th>tweetid</th>\n",
       "      <th>tokens</th>\n",
       "      <th>clean_message</th>\n",
       "      <th>lemmaa</th>\n",
       "      <th>clean_lemma</th>\n",
       "      <th>tokenized_message</th>\n",
       "      <th>clean_stp_words</th>\n",
       "      <th>detokenized_message</th>\n",
       "    </tr>\n",
       "  </thead>\n",
       "  <tbody>\n",
       "    <tr>\n",
       "      <th>0</th>\n",
       "      <td>1</td>\n",
       "      <td>PolySciMajor EPA chief doesn't think carbon di...</td>\n",
       "      <td>625221</td>\n",
       "      <td>[PolySciMajor, EPA, chief, does, n't, think, c...</td>\n",
       "      <td>polyscimajor epa chief does not think carbon d...</td>\n",
       "      <td>polyscimajor epa chief do not think carbon dio...</td>\n",
       "      <td>polyscimajor chief think carbon dioxide main c...</td>\n",
       "      <td>[polyscimajor, chief, think, carbon, dioxide, ...</td>\n",
       "      <td>[polyscimajor, chief, think, carbon, dioxide, ...</td>\n",
       "      <td>polyscimajor chief think carbon dioxide main c...</td>\n",
       "    </tr>\n",
       "    <tr>\n",
       "      <th>1</th>\n",
       "      <td>1</td>\n",
       "      <td>It's not like we lack evidence of anthropogeni...</td>\n",
       "      <td>126103</td>\n",
       "      <td>[It, 's, not, like, we, lack, evidence, of, an...</td>\n",
       "      <td>it has it is not like we lack evidence of anth...</td>\n",
       "      <td>it have it be not like we lack evidence of ant...</td>\n",
       "      <td>have like lack evidence anthropogenic global w...</td>\n",
       "      <td>[have, like, lack, evidence, anthropogenic, gl...</td>\n",
       "      <td>[like, lack, evidence, anthropogenic, global, ...</td>\n",
       "      <td>like lack evidence anthropogenic global warming</td>\n",
       "    </tr>\n",
       "    <tr>\n",
       "      <th>2</th>\n",
       "      <td>2</td>\n",
       "      <td>RT @RawStory: Researchers say we have three ye...</td>\n",
       "      <td>698562</td>\n",
       "      <td>[RT, @, RawStory, :, Researchers, say, we, hav...</td>\n",
       "      <td>rt researchers say we have three years to act ...</td>\n",
       "      <td>rt researcher say we have three year to act on...</td>\n",
       "      <td>researcher have three year climate change befo...</td>\n",
       "      <td>[researcher, have, three, year, climate, chang...</td>\n",
       "      <td>[researcher, three, year, climate, change, late]</td>\n",
       "      <td>researcher three year climate change late</td>\n",
       "    </tr>\n",
       "    <tr>\n",
       "      <th>3</th>\n",
       "      <td>1</td>\n",
       "      <td>#TodayinMaker# WIRED : 2016 was a pivotal year...</td>\n",
       "      <td>573736</td>\n",
       "      <td>[#, TodayinMaker, #, WIRED, :, 2016, was, a, p...</td>\n",
       "      <td>wired  was a pivotal year in the war on climat...</td>\n",
       "      <td>wire   be a pivotal year in the war on climate...</td>\n",
       "      <td>wire pivotal year climate change</td>\n",
       "      <td>[wire, pivotal, year, climate, change]</td>\n",
       "      <td>[wire, pivotal, year, climate, change]</td>\n",
       "      <td>wire pivotal year climate change</td>\n",
       "    </tr>\n",
       "    <tr>\n",
       "      <th>4</th>\n",
       "      <td>1</td>\n",
       "      <td>RT @SoyNovioDeTodas: It's 2016, and a racist, ...</td>\n",
       "      <td>466954</td>\n",
       "      <td>[RT, @, SoyNovioDeTodas, :, It, 's, 2016, ,, a...</td>\n",
       "      <td>rt it has it is  and a racist sexist climate c...</td>\n",
       "      <td>rt it have it be   and a racist sexist climate...</td>\n",
       "      <td>have racist sexist climate change deny bigot l...</td>\n",
       "      <td>[have, racist, sexist, climate, change, deny, ...</td>\n",
       "      <td>[racist, sexist, climate, change, deny, bigot,...</td>\n",
       "      <td>racist sexist climate change deny bigot lead poll</td>\n",
       "    </tr>\n",
       "  </tbody>\n",
       "</table>\n",
       "</div>"
      ],
      "text/plain": [
       "   sentiment                                            message  tweetid  \\\n",
       "0          1  PolySciMajor EPA chief doesn't think carbon di...   625221   \n",
       "1          1  It's not like we lack evidence of anthropogeni...   126103   \n",
       "2          2  RT @RawStory: Researchers say we have three ye...   698562   \n",
       "3          1  #TodayinMaker# WIRED : 2016 was a pivotal year...   573736   \n",
       "4          1  RT @SoyNovioDeTodas: It's 2016, and a racist, ...   466954   \n",
       "\n",
       "                                              tokens  \\\n",
       "0  [PolySciMajor, EPA, chief, does, n't, think, c...   \n",
       "1  [It, 's, not, like, we, lack, evidence, of, an...   \n",
       "2  [RT, @, RawStory, :, Researchers, say, we, hav...   \n",
       "3  [#, TodayinMaker, #, WIRED, :, 2016, was, a, p...   \n",
       "4  [RT, @, SoyNovioDeTodas, :, It, 's, 2016, ,, a...   \n",
       "\n",
       "                                       clean_message  \\\n",
       "0  polyscimajor epa chief does not think carbon d...   \n",
       "1  it has it is not like we lack evidence of anth...   \n",
       "2  rt researchers say we have three years to act ...   \n",
       "3  wired  was a pivotal year in the war on climat...   \n",
       "4  rt it has it is  and a racist sexist climate c...   \n",
       "\n",
       "                                              lemmaa  \\\n",
       "0  polyscimajor epa chief do not think carbon dio...   \n",
       "1  it have it be not like we lack evidence of ant...   \n",
       "2  rt researcher say we have three year to act on...   \n",
       "3  wire   be a pivotal year in the war on climate...   \n",
       "4  rt it have it be   and a racist sexist climate...   \n",
       "\n",
       "                                         clean_lemma  \\\n",
       "0  polyscimajor chief think carbon dioxide main c...   \n",
       "1  have like lack evidence anthropogenic global w...   \n",
       "2  researcher have three year climate change befo...   \n",
       "3                   wire pivotal year climate change   \n",
       "4  have racist sexist climate change deny bigot l...   \n",
       "\n",
       "                                   tokenized_message  \\\n",
       "0  [polyscimajor, chief, think, carbon, dioxide, ...   \n",
       "1  [have, like, lack, evidence, anthropogenic, gl...   \n",
       "2  [researcher, have, three, year, climate, chang...   \n",
       "3             [wire, pivotal, year, climate, change]   \n",
       "4  [have, racist, sexist, climate, change, deny, ...   \n",
       "\n",
       "                                     clean_stp_words  \\\n",
       "0  [polyscimajor, chief, think, carbon, dioxide, ...   \n",
       "1  [like, lack, evidence, anthropogenic, global, ...   \n",
       "2   [researcher, three, year, climate, change, late]   \n",
       "3             [wire, pivotal, year, climate, change]   \n",
       "4  [racist, sexist, climate, change, deny, bigot,...   \n",
       "\n",
       "                                 detokenized_message  \n",
       "0  polyscimajor chief think carbon dioxide main c...  \n",
       "1    like lack evidence anthropogenic global warming  \n",
       "2          researcher three year climate change late  \n",
       "3                   wire pivotal year climate change  \n",
       "4  racist sexist climate change deny bigot lead poll  "
      ]
     },
     "execution_count": 149,
     "metadata": {},
     "output_type": "execute_result"
    }
   ],
   "source": [
    "train_df.head()"
   ]
  },
  {
   "cell_type": "markdown",
   "id": "43ff898d",
   "metadata": {},
   "source": [
    "Difference in raw message and clean message"
   ]
  },
  {
   "cell_type": "code",
   "execution_count": 152,
   "id": "97f35776",
   "metadata": {},
   "outputs": [],
   "source": [
    "# creating two new columns in train data\n",
    "train_df['Num_words_raw'] = train_df['message'].apply(lambda\n",
    "                                                      x: len(str(x).split()))\n",
    "train_df['Num_words_clean'] = train_df['clean_message'].apply(\n",
    "                                                              lambda x:\n",
    "                                                              len(str(\n",
    "                                                                  x).split()))\n",
    "\n",
    "# Difference in Number of word in raw data and clean\n",
    "train_df['difference_in_wordsNo'] = abs(train_df['Num_words_raw'] -\n",
    "                                        train_df['Num_words_clean'])\n",
    "\n",
    "# test data frame\n",
    "test_df['Num_words_raw'] = test_df['message'].apply(lambda\n",
    "                                                    x: len(str(x).split()))\n",
    "test_df['Num_words_clean'] = test_df['clean_message'].apply(lambda x:\n",
    "                                                            len(str(x).split(\n",
    "                                                            )))\n",
    "\n",
    "\n",
    "# Difference in Number of words text and Selected Text\n",
    "test_df['difference_in_wordsNo'] = abs(test_df['Num_words_raw']\n",
    "                                       - test_df['Num_words_clean'])"
   ]
  },
  {
   "cell_type": "code",
   "execution_count": 153,
   "id": "3f949d47",
   "metadata": {
    "collapsed": true
   },
   "outputs": [
    {
     "data": {
      "text/html": [
       "<div>\n",
       "<style scoped>\n",
       "    .dataframe tbody tr th:only-of-type {\n",
       "        vertical-align: middle;\n",
       "    }\n",
       "\n",
       "    .dataframe tbody tr th {\n",
       "        vertical-align: top;\n",
       "    }\n",
       "\n",
       "    .dataframe thead th {\n",
       "        text-align: right;\n",
       "    }\n",
       "</style>\n",
       "<table border=\"1\" class=\"dataframe\">\n",
       "  <thead>\n",
       "    <tr style=\"text-align: right;\">\n",
       "      <th></th>\n",
       "      <th>sentiment</th>\n",
       "      <th>message</th>\n",
       "      <th>tweetid</th>\n",
       "      <th>tokens</th>\n",
       "      <th>clean_message</th>\n",
       "      <th>lemmaa</th>\n",
       "      <th>clean_lemma</th>\n",
       "      <th>tokenized_message</th>\n",
       "      <th>clean_stp_words</th>\n",
       "      <th>detokenized_message</th>\n",
       "      <th>Num_words_raw</th>\n",
       "      <th>Num_words_clean</th>\n",
       "      <th>difference_in_wordsNo</th>\n",
       "    </tr>\n",
       "  </thead>\n",
       "  <tbody>\n",
       "    <tr>\n",
       "      <th>0</th>\n",
       "      <td>1</td>\n",
       "      <td>PolySciMajor EPA chief doesn't think carbon di...</td>\n",
       "      <td>625221</td>\n",
       "      <td>[PolySciMajor, EPA, chief, does, n't, think, c...</td>\n",
       "      <td>polyscimajor epa chief does not think carbon d...</td>\n",
       "      <td>polyscimajor epa chief do not think carbon dio...</td>\n",
       "      <td>polyscimajor chief think carbon dioxide main c...</td>\n",
       "      <td>[polyscimajor, chief, think, carbon, dioxide, ...</td>\n",
       "      <td>[polyscimajor, chief, think, carbon, dioxide, ...</td>\n",
       "      <td>polyscimajor chief think carbon dioxide main c...</td>\n",
       "      <td>19</td>\n",
       "      <td>18</td>\n",
       "      <td>1</td>\n",
       "    </tr>\n",
       "    <tr>\n",
       "      <th>1</th>\n",
       "      <td>1</td>\n",
       "      <td>It's not like we lack evidence of anthropogeni...</td>\n",
       "      <td>126103</td>\n",
       "      <td>[It, 's, not, like, we, lack, evidence, of, an...</td>\n",
       "      <td>it has it is not like we lack evidence of anth...</td>\n",
       "      <td>it have it be not like we lack evidence of ant...</td>\n",
       "      <td>have like lack evidence anthropogenic global w...</td>\n",
       "      <td>[have, like, lack, evidence, anthropogenic, gl...</td>\n",
       "      <td>[like, lack, evidence, anthropogenic, global, ...</td>\n",
       "      <td>like lack evidence anthropogenic global warming</td>\n",
       "      <td>10</td>\n",
       "      <td>13</td>\n",
       "      <td>3</td>\n",
       "    </tr>\n",
       "    <tr>\n",
       "      <th>2</th>\n",
       "      <td>2</td>\n",
       "      <td>RT @RawStory: Researchers say we have three ye...</td>\n",
       "      <td>698562</td>\n",
       "      <td>[RT, @, RawStory, :, Researchers, say, we, hav...</td>\n",
       "      <td>rt researchers say we have three years to act ...</td>\n",
       "      <td>rt researcher say we have three year to act on...</td>\n",
       "      <td>researcher have three year climate change befo...</td>\n",
       "      <td>[researcher, have, three, year, climate, chang...</td>\n",
       "      <td>[researcher, three, year, climate, change, late]</td>\n",
       "      <td>researcher three year climate change late</td>\n",
       "      <td>19</td>\n",
       "      <td>17</td>\n",
       "      <td>2</td>\n",
       "    </tr>\n",
       "  </tbody>\n",
       "</table>\n",
       "</div>"
      ],
      "text/plain": [
       "   sentiment                                            message  tweetid  \\\n",
       "0          1  PolySciMajor EPA chief doesn't think carbon di...   625221   \n",
       "1          1  It's not like we lack evidence of anthropogeni...   126103   \n",
       "2          2  RT @RawStory: Researchers say we have three ye...   698562   \n",
       "\n",
       "                                              tokens  \\\n",
       "0  [PolySciMajor, EPA, chief, does, n't, think, c...   \n",
       "1  [It, 's, not, like, we, lack, evidence, of, an...   \n",
       "2  [RT, @, RawStory, :, Researchers, say, we, hav...   \n",
       "\n",
       "                                       clean_message  \\\n",
       "0  polyscimajor epa chief does not think carbon d...   \n",
       "1  it has it is not like we lack evidence of anth...   \n",
       "2  rt researchers say we have three years to act ...   \n",
       "\n",
       "                                              lemmaa  \\\n",
       "0  polyscimajor epa chief do not think carbon dio...   \n",
       "1  it have it be not like we lack evidence of ant...   \n",
       "2  rt researcher say we have three year to act on...   \n",
       "\n",
       "                                         clean_lemma  \\\n",
       "0  polyscimajor chief think carbon dioxide main c...   \n",
       "1  have like lack evidence anthropogenic global w...   \n",
       "2  researcher have three year climate change befo...   \n",
       "\n",
       "                                   tokenized_message  \\\n",
       "0  [polyscimajor, chief, think, carbon, dioxide, ...   \n",
       "1  [have, like, lack, evidence, anthropogenic, gl...   \n",
       "2  [researcher, have, three, year, climate, chang...   \n",
       "\n",
       "                                     clean_stp_words  \\\n",
       "0  [polyscimajor, chief, think, carbon, dioxide, ...   \n",
       "1  [like, lack, evidence, anthropogenic, global, ...   \n",
       "2   [researcher, three, year, climate, change, late]   \n",
       "\n",
       "                                 detokenized_message  Num_words_raw  \\\n",
       "0  polyscimajor chief think carbon dioxide main c...             19   \n",
       "1    like lack evidence anthropogenic global warming             10   \n",
       "2          researcher three year climate change late             19   \n",
       "\n",
       "   Num_words_clean  difference_in_wordsNo  \n",
       "0               18                      1  \n",
       "1               13                      3  \n",
       "2               17                      2  "
      ]
     },
     "execution_count": 153,
     "metadata": {},
     "output_type": "execute_result"
    }
   ],
   "source": [
    "train_df.head(3)"
   ]
  },
  {
   "cell_type": "code",
   "execution_count": 159,
   "id": "231a72eb",
   "metadata": {},
   "outputs": [],
   "source": [
    "#### Word Cloud Visualization on Clean Data"
   ]
  },
  {
   "cell_type": "markdown",
   "id": "02b97eb9",
   "metadata": {},
   "source": [
    "<a id=\"five\"></a>\n",
    "## 5. Modeling\n",
    "<a class=\"anchor\" id=\"1.1\"></a>\n",
    "<a href=#cont>Back to Table of Contents</a>\n"
   ]
  },
  {
   "cell_type": "code",
   "execution_count": null,
   "id": "20fce52c",
   "metadata": {},
   "outputs": [],
   "source": []
  },
  {
   "cell_type": "code",
   "execution_count": null,
   "id": "0f6fc964",
   "metadata": {},
   "outputs": [],
   "source": []
  },
  {
   "cell_type": "code",
   "execution_count": null,
   "id": "ef09dce1",
   "metadata": {},
   "outputs": [],
   "source": []
  },
  {
   "cell_type": "markdown",
   "id": "d34bb66c",
   "metadata": {},
   "source": [
    "<a id=\"six\"></a>\n",
    "## 6. Model Performance\n",
    "<a class=\"anchor\" id=\"1.1\"></a>\n",
    "<a href=#cont>Back to Table of Contents</a>"
   ]
  },
  {
   "cell_type": "code",
   "execution_count": null,
   "id": "99df0624",
   "metadata": {},
   "outputs": [],
   "source": []
  },
  {
   "cell_type": "markdown",
   "id": "d851cbf7",
   "metadata": {},
   "source": [
    "## Conclusion"
   ]
  },
  {
   "cell_type": "code",
   "execution_count": null,
   "id": "0bfa16ea",
   "metadata": {},
   "outputs": [],
   "source": []
  }
 ],
 "metadata": {
  "kernelspec": {
   "display_name": "Python 3 (ipykernel)",
   "language": "python",
   "name": "python3"
  },
  "language_info": {
   "codemirror_mode": {
    "name": "ipython",
    "version": 3
   },
   "file_extension": ".py",
   "mimetype": "text/x-python",
   "name": "python",
   "nbconvert_exporter": "python",
   "pygments_lexer": "ipython3",
   "version": "3.9.12"
  }
 },
 "nbformat": 4,
 "nbformat_minor": 5
}
